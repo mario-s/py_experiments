{
 "cells": [
  {
   "cell_type": "markdown",
   "metadata": {},
   "source": [
    "# K-means clustering \n",
    "Clustering is a computational technique that divides the points in a data set into groups. A successful clustering results in groups that contain points that are related to one another. Whether those relationships are meaningful generally requires human verification.\n",
    "\n",
    "In clustering, the group (a.k.a. cluster) that a data point belongs to is not predetermined, but instead is decided during the run of the clustering algorithm. In fact, the algorithm is not guided to place any particular data point in any particular cluster by presupposed information. For this reason, clustering is considered an unsupervised method within the realm of machine learning. You can think of unsupervised as meaning not guided by foreknowledge.\n",
    "\n",
    "K-means is a clustering algorithm that attempts to group data points into a certain predefined number of clusters, based on each point’s relative distance to the center of the cluster. In every round of k-means, the distance between every data point and every center of a cluster (a point known as a centroid) is calculated. Points are assigned to the cluster whose centroid they are closest to. Then the algorithm recalculates all of the centroids, finding the mean of each cluster’s assigned points and replacing the old centroid with the new mean. The process of assigning points and recalculating centroids continues until the centroids stop moving or a certain number of iterations occurs. \n",
    "\n",
    "Here is our k-means clustering algorithm:\n",
    "\n",
    "- Initialize all of the data points and “k” empty clusters.\n",
    "- Normalize all of the data points.\n",
    "- Create random centroids associated with each cluster.\n",
    "- Assign each data point to the cluster of the centroid it is closest to.\n",
    "- Recalculate each centroid so it is the center (mean) of the cluster it is associated with.\n",
    "- Repeat steps 4 and 5 until a maximum number of iterations is reached or the centroids stop moving (convergence).\n"
   ]
  },
  {
   "cell_type": "code",
   "execution_count": 1,
   "metadata": {},
   "outputs": [],
   "source": [
    "from __future__ import annotations\n",
    "from typing import Iterator, Tuple, List, Iterable\n",
    "from math import sqrt\n",
    "\n",
    "class DataPoint:\n",
    "    def __init__(self, initial: Iterable[float]) -> None:\n",
    "        self._originals: Tuple[float, ...] = tuple(initial)\n",
    "        self.dimensions: Tuple[float, ...] = tuple(initial)\n",
    "\n",
    "    @property\n",
    "    def num_dimensions(self) -> int:\n",
    "        return len(self.dimensions)\n",
    "\n",
    "    def distance(self, other: DataPoint) -> float:\n",
    "        combined: Iterator[Tuple[float, float]] = zip(self.dimensions, other.dimensions)\n",
    "        differences: List[float] = [(x - y) ** 2 for x, y in combined]\n",
    "        return sqrt(sum(differences))\n",
    "\n",
    "    def __eq__(self, other: object) -> bool:\n",
    "        if not isinstance(other, DataPoint):\n",
    "            return NotImplemented\n",
    "        return self.dimensions == other.dimensions\n",
    "\n",
    "    def __repr__(self) -> str:\n",
    "        return self._originals.__repr__()"
   ]
  },
  {
   "cell_type": "markdown",
   "metadata": {},
   "source": [
    "zscores() converts a sequence of floats into a list of floats with the original numbers’ respective z-scores relative to all of the numbers in the original sequence."
   ]
  },
  {
   "cell_type": "code",
   "execution_count": 2,
   "metadata": {},
   "outputs": [],
   "source": [
    "from typing import TypeVar, Generic, List, Sequence\n",
    "from copy import deepcopy\n",
    "from functools import partial\n",
    "from random import uniform\n",
    "from statistics import mean, pstdev\n",
    "from dataclasses import dataclass\n",
    "\n",
    "def zscores(original: Sequence[float]) -> List[float]:\n",
    "    avg: float = mean(original)\n",
    "    std: float = pstdev(original)\n",
    "    if std == 0: # return all zeros if there is no variation\n",
    "        return [0] * len(original)\n",
    "    return [(x - avg) / std for x in original]"
   ]
  },
  {
   "cell_type": "code",
   "execution_count": 3,
   "metadata": {},
   "outputs": [],
   "source": [
    "# We will implement a class for maintaining state and running the algorithm\n",
    "Point = TypeVar('Point', bound=DataPoint)\n",
    "\n",
    "class KMeans(Generic[Point]):\n",
    "    \n",
    "    @dataclass\n",
    "    class Cluster:\n",
    "        points: List[Point]\n",
    "        centroid: DataPoint\n",
    "    \n",
    "    def __init__(self, k: int, points: List[Point]) -> None:\n",
    "        if k < 1: # k-means can't do negative or zero clusters\n",
    "            raise ValueError(\"k must be >= 1\")\n",
    "        self._points: List[Point] = points\n",
    "        self._zscore_normalize()\n",
    "        # initialize empty clusters with random centroids\n",
    "        self._clusters: List[KMeans.Cluster] = []\n",
    "        for _ in range(k):\n",
    "            rand_point: DataPoint = self._random_point()\n",
    "            cluster: KMeans.Cluster = KMeans.Cluster([], rand_point)\n",
    "            self._clusters.append(cluster)\n",
    "\n",
    "    @property\n",
    "    def _centroids(self) -> List[DataPoint]:\n",
    "        return [x.centroid for x in self._clusters]\n",
    "    \n",
    "    #a convenience method that can be thought of as returning a column of data\n",
    "    def _dimension_slice(self, dimension: int) -> List[float]:\n",
    "        return [x.dimensions[dimension] for x in self._points]\n",
    "    \n",
    "    #replaces the values in the dimensions tuple of every data point with its z-scored equivalent\n",
    "    def _zscore_normalize(self) -> None:\n",
    "        zscored: List[List[float]] = [[] for _ in range(len(self._points))]\n",
    "        for dimension in range(self._points[0].num_dimensions):\n",
    "            dimension_slice: List[float] = self._dimension_slice(dimension)\n",
    "            for index, zscore in enumerate(zscores(dimension_slice)):\n",
    "                zscored[index].append(zscore)\n",
    "        for i in range(len(self._points)):\n",
    "            self._points[i].dimensions = tuple(zscored[i])\n",
    "            \n",
    "    #method to create the initial random centroids for each cluster\n",
    "    def _random_point(self) -> DataPoint:\n",
    "        rand_dimensions: List[float] = []\n",
    "        for dimension in range(self._points[0].num_dimensions):\n",
    "            values: List[float] = self._dimension_slice(dimension)\n",
    "            rand_value: float = uniform(min(values), max(values))\n",
    "            rand_dimensions.append(rand_value)\n",
    "        return DataPoint(rand_dimensions)\n",
    "    \n",
    "    # Find the closest cluster centroid to each point and assign the point to that cluster\n",
    "    def _assign_clusters(self) -> None:\n",
    "        for point in self._points:\n",
    "            closest: DataPoint = min(self._centroids, key=partial(DataPoint.distance, point))\n",
    "            idx: int = self._centroids.index(closest)\n",
    "            cluster: KMeans.Cluster = self._clusters[idx]\n",
    "            cluster.points.append(point)\n",
    "            \n",
    "    # Find the center of each cluster and move the centroid to there\n",
    "    def _generate_centroids(self) -> None:\n",
    "        for cluster in self._clusters:\n",
    "            if len(cluster.points) == 0: # keep the same centroid if no points\n",
    "                continue\n",
    "            means: List[float] = []\n",
    "            for dimension in range(cluster.points[0].num_dimensions):\n",
    "                dimension_slice: List[float] = [p.dimensions[dimension] for p in cluster.points]\n",
    "                means.append(mean(dimension_slice))\n",
    "            cluster.centroid = DataPoint(means)\n",
    "            \n",
    "    def run(self, max_iterations: int = 100) -> List[KMeans.Cluster]:\n",
    "        for iteration in range(max_iterations):\n",
    "            for cluster in self._clusters: # clear all clusters\n",
    "                cluster.points.clear()\n",
    "            self._assign_clusters() # find cluster each point is closest to\n",
    "            old_centroids: List[DataPoint] = deepcopy(self._centroids) # record\n",
    "            self._generate_centroids() # find new centroids\n",
    "            if old_centroids == self._centroids: # have centroids moved?\n",
    "                print(f\"Converged after {iteration} iterations\")\n",
    "                return self._clusters\n",
    "        return self._clusters"
   ]
  },
  {
   "cell_type": "code",
   "execution_count": 4,
   "metadata": {},
   "outputs": [
    {
     "name": "stdout",
     "output_type": "stream",
     "text": [
      "Converged after 1 iterations\n",
      "Cluster 0: [(3.0, 1.5, 2.5)]\n",
      "Cluster 1: [(2.0, 1.0, 1.0), (2.0, 2.0, 5.0)]\n"
     ]
    }
   ],
   "source": [
    "point1: DataPoint = DataPoint([2.0, 1.0, 1.0])\n",
    "point2: DataPoint = DataPoint([2.0, 2.0, 5.0])\n",
    "point3: DataPoint = DataPoint([3.0, 1.5, 2.5])\n",
    "kmeans_test: KMeans[DataPoint] = KMeans(2, [point1, point2, point3])\n",
    "test_clusters: List[KMeans.Cluster] = kmeans_test.run()\n",
    "    \n",
    "for index, cluster in enumerate(test_clusters):\n",
    "    print(f\"Cluster {index}: {cluster.points}\")"
   ]
  },
  {
   "cell_type": "markdown",
   "metadata": {},
   "source": [
    "## Clustering governors by age and longitude \n",
    "looking at each state by its longitude, perhaps we can find clusters of states with similar longitudes and similar-age governors"
   ]
  },
  {
   "cell_type": "code",
   "execution_count": 5,
   "metadata": {},
   "outputs": [],
   "source": [
    "from typing import List\n",
    "\n",
    "class Governor(DataPoint):\n",
    "    def __init__(self, longitude: float, age: float, state: str) -> None:\n",
    "        super().__init__([longitude, age])\n",
    "        self.longitude = longitude\n",
    "        self.age = age\n",
    "        self.state = state\n",
    "\n",
    "    def __repr__(self) -> str:\n",
    "        return f\"{self.state}: (longitude: {self.longitude}, age: {self.age})\""
   ]
  },
  {
   "cell_type": "markdown",
   "metadata": {},
   "source": [
    "We will run k-means with k set to 2. It cannot be emphasized enough that your results with k-means using random initialization of centroids will vary. Be sure to run k-means multiple times with any data set. "
   ]
  },
  {
   "cell_type": "code",
   "execution_count": 6,
   "metadata": {},
   "outputs": [
    {
     "name": "stdout",
     "output_type": "stream",
     "text": [
      "Converged after 4 iterations\n",
      "Cluster 0: [Alaska: (longitude: -152.404419, age: 66), Arizona: (longitude: -111.431221, age: 53), California: (longitude: -119.681564, age: 79), Colorado: (longitude: -105.311104, age: 65), Hawaii: (longitude: -157.498337, age: 60), Idaho: (longitude: -114.478828, age: 75), Montana: (longitude: -110.454353, age: 51), Nevada: (longitude: -117.055374, age: 53), New Mexico: (longitude: -106.248482, age: 57), Oregon: (longitude: -122.070938, age: 56), Utah: (longitude: -111.862434, age: 70), Washington: (longitude: -121.490494, age: 66), Wyoming: (longitude: -107.30249, age: 55)]\n",
      "\n",
      "Cluster 1: [Alabama: (longitude: -86.79113, age: 72), Arkansas: (longitude: -92.373123, age: 66), Connecticut: (longitude: -72.755371, age: 61), Delaware: (longitude: -75.507141, age: 61), Florida: (longitude: -81.686783, age: 64), Georgia: (longitude: -83.643074, age: 74), Illinois: (longitude: -88.986137, age: 60), Indiana: (longitude: -86.258278, age: 49), Iowa: (longitude: -93.210526, age: 57), Kansas: (longitude: -96.726486, age: 60), Kentucky: (longitude: -84.670067, age: 50), Louisiana: (longitude: -91.867805, age: 50), Maine: (longitude: -69.381927, age: 68), Maryland: (longitude: -76.802101, age: 61), Massachusetts: (longitude: -71.530106, age: 60), Michigan: (longitude: -84.536095, age: 58), Minnesota: (longitude: -93.900192, age: 70), Mississippi: (longitude: -89.678696, age: 62), Missouri: (longitude: -92.288368, age: 43), Nebraska: (longitude: -98.268082, age: 52), New Hampshire: (longitude: -71.563896, age: 42), New Jersey: (longitude: -74.521011, age: 54), New York: (longitude: -74.948051, age: 59), North Carolina: (longitude: -79.806419, age: 60), North Dakota: (longitude: -99.784012, age: 60), Ohio: (longitude: -82.764915, age: 65), Oklahoma: (longitude: -96.928917, age: 62), Pennsylvania: (longitude: -77.209755, age: 68), Rhode Island: (longitude: -71.51178, age: 46), South Carolina: (longitude: -80.945007, age: 70), South Dakota: (longitude: -99.438828, age: 64), Tennessee: (longitude: -86.692345, age: 58), Texas: (longitude: -97.563461, age: 59), Vermont: (longitude: -72.710686, age: 58), Virginia: (longitude: -78.169968, age: 60), West Virginia: (longitude: -80.954453, age: 66), Wisconsin: (longitude: -89.616508, age: 49)]\n",
      "\n"
     ]
    }
   ],
   "source": [
    "governors: List[Governor] = [Governor(-86.79113, 72, \"Alabama\"),\n",
    "     Governor(-152.404419, 66, \"Alaska\"),\n",
    "                 Governor(-111.431221, 53, \"Arizona\"), Governor(-92.373123,\n",
    "     66, \"Arkansas\"),\n",
    "                 Governor(-119.681564, 79, \"California\"), Governor(-\n",
    "     105.311104, 65, \"Colorado\"),\n",
    "                 Governor(-72.755371, 61, \"Connecticut\"), Governor(-\n",
    "     75.507141, 61, \"Delaware\"),\n",
    "                 Governor(-81.686783, 64, \"Florida\"), Governor(-83.643074,\n",
    "     74, \"Georgia\"),\n",
    "                 Governor(-157.498337, 60, \"Hawaii\"), Governor(-114.478828,\n",
    "     75, \"Idaho\"),\n",
    "                 Governor(-88.986137, 60, \"Illinois\"), Governor(-86.258278,\n",
    "     49, \"Indiana\"),\n",
    "                 Governor(-93.210526, 57, \"Iowa\"), Governor(-96.726486, 60,\n",
    "     \"Kansas\"),\n",
    "                 Governor(-84.670067, 50, \"Kentucky\"), Governor(-91.867805,\n",
    "     50, \"Louisiana\"),\n",
    "                 Governor(-69.381927, 68, \"Maine\"), Governor(-76.802101, 61,\n",
    "     \"Maryland\"),\n",
    "                 Governor(-71.530106, 60, \"Massachusetts\"), Governor(-\n",
    "     84.536095, 58, \"Michigan\"),\n",
    "                 Governor(-93.900192, 70, \"Minnesota\"), Governor(-89.678696,\n",
    "     62, \"Mississippi\"),\n",
    "                 Governor(-92.288368, 43, \"Missouri\"), Governor(-110.454353,\n",
    "     51, \"Montana\"),\n",
    "                 Governor(-98.268082, 52, \"Nebraska\"), Governor(-117.055374,\n",
    "     53, \"Nevada\"),\n",
    "                 Governor(-71.563896, 42, \"New Hampshire\"), Governor(-\n",
    "     74.521011, 54, \"New Jersey\"),\n",
    "                 Governor(-106.248482, 57, \"New Mexico\"), Governor(-\n",
    "     74.948051, 59, \"New York\"),\n",
    "                 Governor(-79.806419, 60, \"North Carolina\"), Governor(-\n",
    "     99.784012, 60, \"North Dakota\"),\n",
    "                 Governor(-82.764915, 65, \"Ohio\"), Governor(-96.928917, 62,\n",
    "     \"Oklahoma\"),\n",
    "                 Governor(-122.070938, 56, \"Oregon\"), Governor(-77.209755,\n",
    "     68, \"Pennsylvania\"),\n",
    "                 Governor(-71.51178, 46, \"Rhode Island\"), Governor(-\n",
    "     80.945007, 70, \"South Carolina\"),\n",
    "                 Governor(-99.438828, 64, \"South Dakota\"), Governor(-\n",
    "     86.692345, 58, \"Tennessee\"),\n",
    "                 Governor(-97.563461, 59, \"Texas\"), Governor(-111.862434, 70,\n",
    "     \"Utah\"),\n",
    "                 Governor(-72.710686, 58, \"Vermont\"), Governor(-78.169968,\n",
    "     60, \"Virginia\"),\n",
    "                 Governor(-121.490494, 66, \"Washington\"), Governor(-\n",
    "     80.954453, 66, \"West Virginia\"),\n",
    "                 Governor(-89.616508, 49, \"Wisconsin\"), Governor(-107.30249,\n",
    "     55, \"Wyoming\")]\n",
    "    \n",
    "kmeans: KMeans[Governor] = KMeans(2, governors)\n",
    "gov_clusters: List[KMeans.Cluster] = kmeans.run()\n",
    "for index, cluster in enumerate(gov_clusters):\n",
    "    print(f\"Cluster {index}: {cluster.points}\\n\")"
   ]
  },
  {
   "cell_type": "markdown",
   "metadata": {},
   "source": [
    "## Clustering Michael Jackson albums by length\n",
    "Michael Jackson released 10 solo studio albums. In the following example, we will cluster those albums by looking at two dimensions: album length (in minutes) and number of tracks. This example is a nice contrast with the preceding governors example because it is easy to see the clusters in the original data set without even running k-means. An example like this can be a good way of debugging an implementation of a clustering algorithm. "
   ]
  },
  {
   "cell_type": "code",
   "execution_count": 7,
   "metadata": {},
   "outputs": [],
   "source": [
    "class Album(DataPoint):\n",
    "    def __init__(self, name: str, year: int, length: float, tracks: float) -> None:\n",
    "        super().__init__([length, tracks])\n",
    "        self.name = name\n",
    "        self.year = year\n",
    "        self.length = length\n",
    "        self.tracks = tracks\n",
    "\n",
    "    def __repr__(self) -> str:\n",
    "        return f\"{self.name}, {self.year}\""
   ]
  },
  {
   "cell_type": "code",
   "execution_count": 8,
   "metadata": {},
   "outputs": [
    {
     "name": "stdout",
     "output_type": "stream",
     "text": [
      "Converged after 1 iterations\n",
      "Cluster 0 Avg Length -0.29445443944188343 Avg Tracks -0.31282342980986083: [Got to Be There, 1972, Ben, 1972, Music & Me, 1973, Forever, Michael, 1975, Off the Wall, 1979, Thriller, 1982, Bad, 1987, Dangerous, 1991, Invincible, 2001]\n",
      "\n",
      "Cluster 1 Avg Length 2.650089954976951 Avg Tracks 2.815410868288747: [HIStory: Past, Present and Future, Book I, 1995]\n",
      "\n"
     ]
    }
   ],
   "source": [
    "albums: List[Album] = [Album(\"Got to Be There\", 1972, 35.45, 10),\n",
    "    Album(\"Ben\", 1972, 31.31, 10),\n",
    "    Album(\"Music & Me\", 1973, 32.09, 10),\n",
    "    Album(\"Forever, Michael\", 1975, 33.36, 10),\n",
    "    Album(\"Off the Wall\", 1979, 42.28, 10),\n",
    "    Album(\"Thriller\", 1982, 42.19, 9),\n",
    "    Album(\"Bad\", 1987, 48.16, 10), Album(\"Dangerous\", 1991, 77.03, 14),\n",
    "    Album(\"HIStory: Past, Present and Future, Book I\", 1995, 148.58, 30), \n",
    "    Album(\"Invincible\", 2001, 77.05, 16)]\n",
    "    \n",
    "kmeans: KMeans[Album] = KMeans(2, albums)\n",
    "clusters: List[KMeans.Cluster] = kmeans.run()\n",
    "for index, cluster in enumerate(clusters):\n",
    "    print(f\"Cluster {index} Avg Length {cluster.centroid.dimensions[0]} Avg Tracks {cluster.centroid.dimensions[1]}: {cluster.points}\\n\")"
   ]
  },
  {
   "cell_type": "code",
   "execution_count": null,
   "metadata": {},
   "outputs": [],
   "source": []
  }
 ],
 "metadata": {
  "kernelspec": {
   "display_name": "Python 3",
   "language": "python",
   "name": "python3"
  },
  "language_info": {
   "codemirror_mode": {
    "name": "ipython",
    "version": 3
   },
   "file_extension": ".py",
   "mimetype": "text/x-python",
   "name": "python",
   "nbconvert_exporter": "python",
   "pygments_lexer": "ipython3",
   "version": "3.7.3"
  }
 },
 "nbformat": 4,
 "nbformat_minor": 2
}
