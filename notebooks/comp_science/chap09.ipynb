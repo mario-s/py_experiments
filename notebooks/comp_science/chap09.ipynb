{
 "cells": [
  {
   "cell_type": "markdown",
   "metadata": {},
   "source": [
    "# Miscellaneous problems \n",
    "## The knapsack problem \n",
    "The knapsack problem is an optimization problem, finding the best use of limited resources given a finite set of usage options.\n",
    "\n",
    "If a thief could take any amount of any item, he could simply divide each item’s value by its weight to figure out the most valuable items for the available capacity. But to make the scenario more realistic, let’s say that the thief cannot take half of an item (such as 2.5 televisions). Instead, we will come up with a way to solve the 0/1 variant of the problem, so-called because it enforces another rule: The thief may only take one or none of each item. "
   ]
  },
  {
   "cell_type": "code",
   "execution_count": 1,
   "metadata": {},
   "outputs": [],
   "source": [
    "from typing import NamedTuple, List\n",
    "\n",
    "class Item(NamedTuple):\n",
    "    name: str\n",
    "    weight: int\n",
    "    value: float\n",
    "\n",
    "    def __repr__(self) -> str:\n",
    "        return f\"{self.name}: (weight: {self.weight}, value: {self.value})\""
   ]
  },
  {
   "cell_type": "markdown",
   "metadata": {},
   "source": [
    "If we tried to solve this problem using a brute-force approach, we would look at every combination of items available to be put in the knapsack. For the mathematically inclined, this is known as a powerset, and a powerset of a set (in our case, the set of items) has 2^N different possible subsets, where N is the number of items. Therefore, we would need to analyze 2^N combinations (O(2^N)). This is okay for a small number of items, but it is untenable for a large number. Any approach that solves a problem using an exponential number of steps is an approach we want to avoid.\n",
    "\n",
    "Instead, we will use a technique known as dynamic programming, which is similar in concept to memoization. Instead of solving a problem outright with a brute-force approach, in dynamic programming one solves subproblems that make up the larger problem, stores those results, and utilizes those stored results to solve the larger problem. As long as the capacity of the knapsack is considered in discrete steps, the problem can be solved with dynamic programming. \n",
    "\n",
    "All along the way we will fill in a table that tells us the best possible solution for each combination of items and capacity. Our function will first fill in the table and then figure out the solution based on the table."
   ]
  },
  {
   "cell_type": "code",
   "execution_count": 2,
   "metadata": {},
   "outputs": [],
   "source": [
    "def knapsack(items: List[Item], max_capacity: int) -> List[Item]:\n",
    "    # build up dynamic programming table\n",
    "    table: List[List[float]] = [[0.0 for _ in range(max_capacity + 1)] for _ in range(len(items) + 1)]\n",
    "    for i, item in enumerate(items):\n",
    "        for capacity in range(1, max_capacity + 1):\n",
    "            previous_items_value: float = table[i][capacity]\n",
    "            # item fits in knapsack\n",
    "            if capacity >= item.weight: \n",
    "                value_freeing_weight_for_item: float = table[i][capacity - item.weight]\n",
    "                # only take if more valuable than previous item\n",
    "                table[i + 1][capacity] = max(value_freeing_weight_for_item + item.value, previous_items_value)\n",
    "            else: \n",
    "                # no room for this item\n",
    "                table[i + 1][capacity] = previous_items_value\n",
    "                \n",
    "    # figure out solution from table\n",
    "    solution: List[Item] = []\n",
    "    capacity = max_capacity\n",
    "    for i in range(len(items), 0, -1): # work backwards\n",
    "        # was this item used?\n",
    "        if table[i - 1][capacity] != table[i][capacity]:\n",
    "            solution.append(items[i - 1])\n",
    "            # if the item was used, remove its weight\n",
    "            capacity -= items[i - 1].weight\n",
    "    return solution"
   ]
  },
  {
   "cell_type": "markdown",
   "metadata": {},
   "source": [
    "| Item                    | 0 lb. | 1 lb. | 2 lb. | 3 lb. |\n",
    "|-------------------------|-------|-------|-------|-------|\n",
    "| Matches(1 lb., \\$5)     |     0 |     5 |     5 |     5 |\n",
    "| Flashlight(2 lb., \\$10) |     0 |     5 |    10 |    15 |\n",
    "| Book(1lb., \\$15)        |     0 |    15 |    20 |    25 |"
   ]
  },
  {
   "cell_type": "code",
   "execution_count": 3,
   "metadata": {},
   "outputs": [
    {
     "name": "stdout",
     "output_type": "stream",
     "text": [
      "[book: (weight: 1, value: 15), flashlight: (weight: 2, value: 10)]\n"
     ]
    }
   ],
   "source": [
    "items: List[Item] = [Item(\"matches\", 1, 5),\n",
    "                     Item(\"flashlight\", 2, 10),\n",
    "                     Item(\"book\", 1, 15)]\n",
    "print(knapsack(items, 3))"
   ]
  },
  {
   "cell_type": "code",
   "execution_count": 4,
   "metadata": {},
   "outputs": [
    {
     "name": "stdout",
     "output_type": "stream",
     "text": [
      "[painting: (weight: 10, value: 1000), jewelry: (weight: 1, value: 4000), clothing: (weight: 20, value: 800), laptop: (weight: 3, value: 1000), stereo: (weight: 35, value: 400), candlesticks: (weight: 2, value: 300)]\n"
     ]
    }
   ],
   "source": [
    "items: List[Item] = [Item(\"television\", 50, 500),\n",
    "                     Item(\"candlesticks\", 2, 300),\n",
    "                     Item(\"stereo\", 35, 400),\n",
    "                     Item(\"laptop\", 3, 1000),\n",
    "                     Item(\"food\", 15, 50),\n",
    "                     Item(\"clothing\", 20, 800),\n",
    "                     Item(\"jewelry\", 1, 4000),\n",
    "                     Item(\"books\", 100, 300),\n",
    "                     Item(\"printer\", 18, 30),\n",
    "                     Item(\"refrigerator\", 200, 700),\n",
    "                     Item(\"painting\", 10, 1000)]\n",
    "print(knapsack(items, 75))"
   ]
  },
  {
   "cell_type": "markdown",
   "metadata": {},
   "source": [
    "## The Traveling Salesman Problem \n",
    "The Traveling Salesman Problem is one of the most classic and talked-about problems in all of computing. A salesman must visit all of the cities on a map exactly once, returning to his start city at the end of the journey. There is a direct connection from every city to every other city, and the salesman may visit the cities in any order. What is the shortest path for the salesman? \n",
    "\n",
    "The problem can be thought of as a graph problem, with the cities being the vertices and the connections between them being the edges. Your first instinct might be to find the minimum spanning tree, as described in chapter 4. Unfortunately, the solution to the Traveling Salesman Problem is not so simple. The minimum spanning tree is the shortest way to connect all of the cities, but it does not provide the shortest path for visiting all of them exactly once. \n",
    "\n",
    "Although the problem, as posed, appears fairly simple, there is no algorithm that can solve it quickly for an arbitrary number of cities. \n",
    "\n",
    "### The naive approach\n",
    "The naive approach to the problem is simply to try every possible combination of cities. Attempting the naive approach will illustrate the difficulty of the problem and this approach’s unsuitability for brute-force attempts at larger scales. \n",
    "\n",
    "In our version of the Traveling Salesman Problem, the salesman is interested in visiting five of the major cities of Vermont. \n",
    "\n",
    "We will need to codify both the cities and the distances between them for our problem. To make the distances between cities easy to look up, we will use a dictionary of dictionaries, with the outer set of keys representing the first of a pair and the inner set of keys representing the second. This will be the type Dict[str, Dict[str, int]]."
   ]
  },
  {
   "cell_type": "code",
   "execution_count": 5,
   "metadata": {},
   "outputs": [],
   "source": [
    "from typing import Dict, List, Iterable, Tuple\n",
    "from itertools import permutations\n",
    "\n",
    "vt_distances: Dict[str, Dict[str, int]] = {\n",
    "    \"Rutland\":\n",
    "        {\"Burlington\": 67,\n",
    "         \"White River Junction\": 46,\n",
    "         \"Bennington\": 55,\n",
    "         \"Brattleboro\": 75},\n",
    "    \"Burlington\":\n",
    "        {\"Rutland\": 67,\n",
    "         \"White River Junction\": 91,\n",
    "         \"Bennington\": 122,\n",
    "         \"Brattleboro\": 153},\n",
    "    \"White River Junction\":\n",
    "        {\"Rutland\": 46,\n",
    "         \"Burlington\": 91,\n",
    "         \"Bennington\": 98,\n",
    "         \"Brattleboro\": 65},\n",
    "    \"Bennington\":\n",
    "        {\"Rutland\": 55,\n",
    "         \"Burlington\": 122,\n",
    "         \"White River Junction\": 98,\n",
    "         \"Brattleboro\": 40},\n",
    "    \"Brattleboro\":\n",
    "        {\"Rutland\": 75,\n",
    "         \"Burlington\": 153,\n",
    "         \"White River Junction\": 65,\n",
    "         \"Bennington\": 40}\n",
    "}"
   ]
  },
  {
   "cell_type": "markdown",
   "metadata": {},
   "source": [
    "The naive approach to solving the Traveling Salesman Problem requires generating every possible permutation of the cities. There are many permutation-generation algorithms; they are simple enough to ideate that you could almost certainly come up with one on your own. \n",
    "\n",
    "Luckily, there is no need to reinvent the wheel by writing a permutation-generation algorithm, because the Python standard library has a permutations() function in its itertools module. In the following code snippet, we generate all of the permutations of the Vermont cities that our travelling salesman would need to visit. Because there are five cities, this is 5! (5 factorial), or 120 permutations.\n",
    "\n",
    "Recall that in the Traveling Salesman Problem, the salesman must return, at the end, to the same city that he started in. We can easily add the first city in a permutation to the end of a permutation using a list comprehension. "
   ]
  },
  {
   "cell_type": "code",
   "execution_count": 6,
   "metadata": {},
   "outputs": [],
   "source": [
    "vt_cities: Iterable[str] = vt_distances.keys()\n",
    "city_permutations: Iterable[Tuple[str, ...]] = permutations(vt_cities) \n",
    "tsp_paths: List[Tuple[str, ...]] = [c + (c[0],) for c in city_permutations]"
   ]
  },
  {
   "cell_type": "markdown",
   "metadata": {},
   "source": [
    "We are now ready to try testing the paths we have permuted. A brute-force search approach painstakingly looks at every path in a list of paths and uses the distance between two cities lookup table (vt_distances) to calculate each path’s total distance. It prints both the shortest path and that path’s total distance. "
   ]
  },
  {
   "cell_type": "code",
   "execution_count": 7,
   "metadata": {},
   "outputs": [
    {
     "name": "stdout",
     "output_type": "stream",
     "text": [
      "The shortest path is ('Rutland', 'Burlington', 'White River Junction', 'Brattleboro', 'Bennington', 'Rutland') in 318 miles.\n"
     ]
    }
   ],
   "source": [
    "best_path: Tuple[str, ...]\n",
    "min_distance: int = 99999999999 # arbitrarily high number\n",
    "for path in tsp_paths:\n",
    "    distance: int = 0\n",
    "    last: str = path[0]\n",
    "    for next in path[1:]:\n",
    "        distance += vt_distances[last][next]\n",
    "        last = next\n",
    "    if distance < min_distance:\n",
    "        min_distance = distance\n",
    "        best_path = path\n",
    "print(f\"The shortest path is {best_path} in {min_distance} miles.\")"
   ]
  },
  {
   "cell_type": "markdown",
   "metadata": {},
   "source": [
    "## Phone number mnemonics\n",
    "Telephones included letters on each of the keys on their number pads. The reason for these letters was to provide easy mnemonics by which to remember phone numbers."
   ]
  },
  {
   "cell_type": "code",
   "execution_count": 8,
   "metadata": {},
   "outputs": [],
   "source": [
    "from typing import Dict, Tuple, Iterable, List\n",
    "from itertools import product\n",
    "\n",
    "phone_mapping: Dict[str, Tuple[str, ...]] = {\"1\": (\"1\",),\n",
    "                                             \"2\": (\"a\", \"b\", \"c\"),\n",
    "                                             \"3\": (\"d\", \"e\", \"f\"),\n",
    "                                             \"4\": (\"g\", \"h\", \"i\"),\n",
    "                                             \"5\": (\"j\", \"k\", \"l\"),\n",
    "                                             \"6\": (\"m\", \"n\", \"o\"),\n",
    "                                             \"7\": (\"p\", \"q\", \"r\", \"s\"),\n",
    "                                             \"8\": (\"t\", \"u\", \"v\"),\n",
    "                                             \"9\": (\"w\", \"x\", \"y\", \"z\"),\n",
    "                                             \"0\": (\"0\",)}"
   ]
  },
  {
   "cell_type": "markdown",
   "metadata": {},
   "source": [
    "The next function combines all of those possibilities for each numeral into a list of possible mnemonics for a given phone number. It does this by creating a list of tuples of potential letters for each digit in the phone number and then combining them through the Cartesian product function product() from itertools. Note the use of the unpack (*) operator to use the tuples in letter_tuples as the arguments for product(). "
   ]
  },
  {
   "cell_type": "code",
   "execution_count": 9,
   "metadata": {},
   "outputs": [],
   "source": [
    "def possible_mnemonics(phone_number: str) -> Iterable[Tuple[str, ...]]:\n",
    "    letter_tuples: List[Tuple[str, ...]] = []\n",
    "    for digit in phone_number:\n",
    "        letter_tuples.append(phone_mapping.get(digit, (digit,)))\n",
    "    return product(*letter_tuples)"
   ]
  },
  {
   "cell_type": "code",
   "execution_count": 10,
   "metadata": {},
   "outputs": [
    {
     "name": "stdout",
     "output_type": "stream",
     "text": [
      "Enter a phone number:3345\n",
      "Here are the potential mnemonics:\n",
      "ddgj\n",
      "ddgk\n",
      "ddgl\n",
      "ddhj\n",
      "ddhk\n",
      "ddhl\n",
      "ddij\n",
      "ddik\n",
      "ddil\n",
      "degj\n",
      "degk\n",
      "degl\n",
      "dehj\n",
      "dehk\n",
      "dehl\n",
      "deij\n",
      "deik\n",
      "deil\n",
      "dfgj\n",
      "dfgk\n",
      "dfgl\n",
      "dfhj\n",
      "dfhk\n",
      "dfhl\n",
      "dfij\n",
      "dfik\n",
      "dfil\n",
      "edgj\n",
      "edgk\n",
      "edgl\n",
      "edhj\n",
      "edhk\n",
      "edhl\n",
      "edij\n",
      "edik\n",
      "edil\n",
      "eegj\n",
      "eegk\n",
      "eegl\n",
      "eehj\n",
      "eehk\n",
      "eehl\n",
      "eeij\n",
      "eeik\n",
      "eeil\n",
      "efgj\n",
      "efgk\n",
      "efgl\n",
      "efhj\n",
      "efhk\n",
      "efhl\n",
      "efij\n",
      "efik\n",
      "efil\n",
      "fdgj\n",
      "fdgk\n",
      "fdgl\n",
      "fdhj\n",
      "fdhk\n",
      "fdhl\n",
      "fdij\n",
      "fdik\n",
      "fdil\n",
      "fegj\n",
      "fegk\n",
      "fegl\n",
      "fehj\n",
      "fehk\n",
      "fehl\n",
      "feij\n",
      "feik\n",
      "feil\n",
      "ffgj\n",
      "ffgk\n",
      "ffgl\n",
      "ffhj\n",
      "ffhk\n",
      "ffhl\n",
      "ffij\n",
      "ffik\n",
      "ffil\n"
     ]
    }
   ],
   "source": [
    "phone_number: str = input(\"Enter a phone number:\")\n",
    "print(\"Here are the potential mnemonics:\")\n",
    "for mnemonic in possible_mnemonics(phone_number):\n",
    "    print(\"\".join(mnemonic))"
   ]
  },
  {
   "cell_type": "code",
   "execution_count": null,
   "metadata": {},
   "outputs": [],
   "source": []
  }
 ],
 "metadata": {
  "kernelspec": {
   "display_name": "Python 3",
   "language": "python",
   "name": "python3"
  },
  "language_info": {
   "codemirror_mode": {
    "name": "ipython",
    "version": 3
   },
   "file_extension": ".py",
   "mimetype": "text/x-python",
   "name": "python",
   "nbconvert_exporter": "python",
   "pygments_lexer": "ipython3",
   "version": "3.7.4"
  }
 },
 "nbformat": 4,
 "nbformat_minor": 2
}
