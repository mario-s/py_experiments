{
 "cells": [
  {
   "cell_type": "markdown",
   "metadata": {},
   "source": [
    "# Search Problems\n",
    "## DNA search\n",
    "Genes are commonly represented in computer software as a sequence of the characters A, C, G, and T. Each letter represents a nucleotide, and the combination of three nucleotides is called a codon. A codon codes for a specific amino acid that together with other amino acids can form a protein. A classic task in bioinformatics software is to find a particular codon within a gene.\n",
    "### Storing DNA \n",
    "We can represent a nucleotide as a simple IntEnum with four cases. IntEnum gives us comparison operators (<, >=, and so on) “for free.”"
   ]
  },
  {
   "cell_type": "code",
   "execution_count": 1,
   "metadata": {},
   "outputs": [],
   "source": [
    "from enum import IntEnum\n",
    "from typing import Tuple, List\n",
    "\n",
    "Nucleotide: IntEnum = IntEnum('Nucleotide', ('A', 'C', 'G', 'T'))\n",
    "    \n",
    "Codon = Tuple[Nucleotide, Nucleotide, Nucleotide]  # type alias for codons\n",
    "Gene = List[Codon]  # type alias for genes\n",
    "\n",
    "#continually goes through the provided str and converts its next three characters into Codons\n",
    "def string_to_gene(s: str) -> Gene:\n",
    "    gene: Gene = []\n",
    "    for i in range(0, len(s), 3):\n",
    "        if (i + 2) >= len(s):  # don't run off end!\n",
    "            return gene\n",
    "        #  initialize codon out of three nucleotides\n",
    "        codon: Codon = (Nucleotide[s[i]], Nucleotide[s[i + 1]], Nucleotide[s[i + 2]])\n",
    "        gene.append(codon)  # add codon to gene\n",
    "    return gene"
   ]
  },
  {
   "cell_type": "markdown",
   "metadata": {},
   "source": [
    "### Linear Search\n",
    "Look at each element"
   ]
  },
  {
   "cell_type": "code",
   "execution_count": 2,
   "metadata": {},
   "outputs": [
    {
     "name": "stdout",
     "output_type": "stream",
     "text": [
      "True\n",
      "False\n"
     ]
    }
   ],
   "source": [
    "gene_str: str = \"ACGTGGCTCTCTAACGTACGTACGTACGGGGTTTATATATACCCTAGGACTCCCTTT\"\n",
    "my_gene: Gene = string_to_gene(gene_str)\n",
    "\n",
    "acg: Codon = (Nucleotide.A, Nucleotide.C, Nucleotide.G)\n",
    "gat: Codon = (Nucleotide.G, Nucleotide.A, Nucleotide.T)\n",
    "\n",
    "#linear search\n",
    "print(acg in my_gene)  # True\n",
    "print(gat in my_gene)  # False"
   ]
  },
  {
   "cell_type": "markdown",
   "metadata": {},
   "source": [
    "### Binary Search\n",
    "There is a faster way to search than looking at every element, but it requires us to know something about the order of the data structure ahead of time. If we know that the structure is sorted, and we can instantly access any item within it by its index, we can perform a binary search. Based on this criteria, a sorted Python list is a perfect candidate for a binary search. "
   ]
  },
  {
   "cell_type": "code",
   "execution_count": 3,
   "metadata": {},
   "outputs": [
    {
     "name": "stdout",
     "output_type": "stream",
     "text": [
      "True\n",
      "False\n"
     ]
    }
   ],
   "source": [
    "#binary search, for this type the data structure has to be sorted\n",
    "def binary_contains(gene: Gene, key_codon: Codon) -> bool:\n",
    "    low: int = 0\n",
    "    high: int = len(gene) - 1\n",
    "    while low <= high:  # while there is still a search space\n",
    "        mid: int = (low + high) // 2\n",
    "        if gene[mid] < key_codon:\n",
    "            low = mid + 1\n",
    "        elif gene[mid] > key_codon:\n",
    "            high = mid - 1\n",
    "        else:\n",
    "            return True\n",
    "    return False\n",
    "\n",
    "my_sorted_gene: Gene = sorted(my_gene)\n",
    "print(binary_contains(my_sorted_gene, acg))  # True\n",
    "print(binary_contains(my_sorted_gene, gat))  # False"
   ]
  },
  {
   "cell_type": "markdown",
   "metadata": {},
   "source": [
    "## Maze Solving\n",
    "Finding a path through a maze, where the maze is a two dimensional grid (list of lists) of cells. "
   ]
  },
  {
   "cell_type": "code",
   "execution_count": 4,
   "metadata": {},
   "outputs": [],
   "source": [
    "from enum import Enum\n",
    "from typing import List, NamedTuple, Callable, Optional\n",
    "import random\n",
    "from math import sqrt\n",
    "#from generic_search import dfs, bfs, node_to_path, astar, Node\n",
    "\n",
    "class Cell(str, Enum):\n",
    "    EMPTY = \" \"\n",
    "    BLOCKED = \"X\"\n",
    "    START = \"S\"\n",
    "    GOAL = \"G\"\n",
    "    PATH = \"*\""
   ]
  },
  {
   "cell_type": "markdown",
   "metadata": {},
   "source": [
    "The following class refers to an individual location in the maze."
   ]
  },
  {
   "cell_type": "code",
   "execution_count": 5,
   "metadata": {},
   "outputs": [],
   "source": [
    "class MazeLocation(NamedTuple):\n",
    "    row: int\n",
    "    column: int"
   ]
  },
  {
   "cell_type": "markdown",
   "metadata": {},
   "source": [
    "Create our maze with sparseness of 20%."
   ]
  },
  {
   "cell_type": "code",
   "execution_count": 6,
   "metadata": {},
   "outputs": [],
   "source": [
    "class Maze:\n",
    "    def __init__(self, rows: int = 10, columns: int = 10, sparseness: float = 0.2, \n",
    "                 start: MazeLocation = MazeLocation(0,0), \n",
    "                 goal: MazeLocation = MazeLocation(9,9)) -> None:\n",
    "        #initialize basic instance variables\n",
    "        self._rows: int = rows\n",
    "        self._columns: int = columns\n",
    "        self.start: MazeLocation = start\n",
    "        self.goal: MazeLocation = goal\n",
    "        \n",
    "        #fill the grid with empty cells\n",
    "        self._grid: List[List[Cell]] = [[Cell.EMPTY for c in range(columns)]\n",
    "                                           for r in range(rows)]\n",
    "        #populate the grid with blocked cells\n",
    "        self._randomly_fill(rows, columns, sparseness)\n",
    "        #fill the start and goal\n",
    "        self._grid[start.row][start.column] = Cell.START\n",
    "        self._grid[goal.row][goal.column] = Cell.GOAL\n",
    "        \n",
    "    def _randomly_fill(self, rows: int, columns: int, sparseness: float):\n",
    "        for row in range(rows):\n",
    "            for column in range(columns):\n",
    "                if random.uniform(0, 1.0) < sparseness:\n",
    "                    self._grid[row][column] = Cell.BLOCKED\n",
    "                    \n",
    "    #return a formatted version of the maze\n",
    "    def __str__(self) -> str:\n",
    "        output: str = \"\"\n",
    "        for row in self._grid:\n",
    "            output += \"\".join([c.value for c in row]) + \"\\n\"\n",
    "        return output\n",
    "    \n",
    "    #check whether a particular Maze-Location that the search has reached is the goal\n",
    "    def goal_test(self, ml: MazeLocation) -> bool:\n",
    "        return ml == self.goal\n",
    "    \n",
    "    #find the possible next locations from a given MazeLocation\n",
    "    #simply checks above, below, to the right, and to the left of a Maze-Location in \n",
    "    #a Maze to see if it can find empty spaces that can be gone to from that location\n",
    "    def successors(self, ml: MazeLocation) -> List[MazeLocation]:\n",
    "        locations: List[MazeLocation] = []\n",
    "        if ml.row + 1 < self._rows and self._grid[ml.row + 1][ml.column] != Cell.BLOCKED:\n",
    "            locations.append(MazeLocation(ml.row + 1, ml.column))\n",
    "        if ml.row - 1 >= 0 and self._grid[ml.row - 1][ml.column] != Cell.BLOCKED:\n",
    "            locations.append(MazeLocation(ml.row - 1, ml.column))\n",
    "        if ml.column + 1 < self._columns and self._grid[ml.row][ml.column + 1] != Cell.BLOCKED:\n",
    "            locations.append(MazeLocation(ml.row, ml.column + 1))\n",
    "        if ml.column - 1 >= 0 and self._grid[ml.row][ml.column - 1] != Cell.BLOCKED:\n",
    "            locations.append(MazeLocation(ml.row, ml.column - 1))\n",
    "        return locations\n",
    "    \n",
    "    #mark a path\n",
    "    def mark(self, path: List[MazeLocation]):\n",
    "        for maze_location in path:\n",
    "            self._grid[maze_location.row][maze_location.column] = Cell.PATH\n",
    "        self._grid[self.start.row][self.start.column] = Cell.START\n",
    "        self._grid[self.goal.row][self.goal.column] = Cell.GOAL\n",
    "\n",
    "        #clear the path\n",
    "    def clear(self, path: List[MazeLocation]):\n",
    "        for maze_location in path:\n",
    "            self._grid[maze_location.row][maze_location.column] = Cell.EMPTY\n",
    "        self._grid[self.start.row][self.start.column] = Cell.START\n",
    "        self._grid[self.goal.row][self.goal.column] = Cell.GOAL"
   ]
  },
  {
   "cell_type": "markdown",
   "metadata": {
    "collapsed": true
   },
   "source": [
    "### Depth-first search\n",
    "A search that goes as deeply as it can before backtracking to its last decision point if it reaches a dead end. The depth-first search algorithm relies on a data structure known as a stack. A stack is a data structure that operates under the Last-In-First-Out (LIFO) principle. "
   ]
  },
  {
   "cell_type": "code",
   "execution_count": 7,
   "metadata": {},
   "outputs": [],
   "source": [
    "from typing import Generic, TypeVar\n",
    "\n",
    "T = TypeVar('T')\n",
    "\n",
    "class Stack(Generic[T]):\n",
    "    def __init__(self) -> None:\n",
    "        self._container: List[T] = []\n",
    "\n",
    "    @property\n",
    "    def empty(self) -> bool:\n",
    "        return not self._container  # not is true for empty container\n",
    "\n",
    "    def push(self, item: T) -> None:\n",
    "        self._container.append(item)\n",
    "\n",
    "    def pop(self) -> T:\n",
    "        return self._container.pop()  # LIFO\n",
    "\n",
    "    def __repr__(self) -> str:\n",
    "        return repr(self._container)"
   ]
  },
  {
   "cell_type": "markdown",
   "metadata": {},
   "source": [
    "We need a Node class that we will use to keep track of how we got from one state to another state (or from one place to another place) as we search. We’ll call the Node that a state came from its parent. We will also define our Node class as having cost and heuristic properties and with __lt__() implemented, so we can reuse it later in the A* algorithm. The 'from future import annotations' allows Node to reference itself in the type hints of its methods."
   ]
  },
  {
   "cell_type": "code",
   "execution_count": 8,
   "metadata": {},
   "outputs": [],
   "source": [
    "from __future__ import annotations\n",
    "from typing import Optional\n",
    "\n",
    "class Node(Generic[T]):\n",
    "    def __init__(self, state: T, parent: Optional[Node], cost: float = 0.0, heuristic: float = 0.0) -> None:\n",
    "        self.state: T = state\n",
    "        self.parent: Optional[Node] = parent\n",
    "        self.cost: float = cost\n",
    "        self.heuristic: float = heuristic\n",
    "\n",
    "    def __lt__(self, other: Node) -> bool:\n",
    "        return (self.cost + self.heuristic) < (other.cost + other.heuristic)"
   ]
  },
  {
   "cell_type": "markdown",
   "metadata": {},
   "source": [
    "An in-progress depth-first search needs to keep track of two data structures: the stack of states (or “places”) that we are considering searching, which we will call the frontier; and the set of states that we have already searched, which we will call explored. As long as there are more states to visit in the frontier, DFS will keep checking whether they are the goal (if a state is the goal, DFS will stop and return it) and adding their successors to the frontier. It will also mark each state that has already been searched as explored, so that the search does not get caught in a circle, reaching states that have prior visited states as successors. If the frontier is empty, it means there is nowhere left to search. "
   ]
  },
  {
   "cell_type": "code",
   "execution_count": 9,
   "metadata": {},
   "outputs": [],
   "source": [
    "def dfs(initial: T, goal_test: Callable[[T], bool], successors: Callable[[T], List[T]]) -> Optional[Node[T]]:\n",
    "    # frontier is where we've yet to go\n",
    "    frontier: Stack[Node[T]] = Stack()\n",
    "    frontier.push(Node(initial, None))\n",
    "    # explored is where we've been\n",
    "    explored: Set[T] = {initial}\n",
    "\n",
    "    # keep going while there is more to explore\n",
    "    while not frontier.empty:\n",
    "        current_node: Node[T] = frontier.pop()\n",
    "        current_state: T = current_node.state\n",
    "        # if we found the goal, we're done\n",
    "        if goal_test(current_state):\n",
    "            return current_node\n",
    "        # check where we can go next and haven't explored\n",
    "        for child in successors(current_state):\n",
    "            if child in explored:  # skip children we already explored\n",
    "                continue\n",
    "            explored.add(child)\n",
    "            frontier.push(Node(child, current_node))\n",
    "    return None  # went through everything and never found goal"
   ]
  },
  {
   "cell_type": "markdown",
   "metadata": {},
   "source": [
    "The path from the start to the goal can be reconstructed by working backward from this Node and its priors using the parent property. "
   ]
  },
  {
   "cell_type": "code",
   "execution_count": 10,
   "metadata": {},
   "outputs": [],
   "source": [
    "def node_to_path(node: Node[T]) -> List[T]:\n",
    "    path: List[T] = [node.state]\n",
    "    # work backwards from end to front\n",
    "    while node.parent is not None:\n",
    "        node = node.parent\n",
    "        path.append(node.state)\n",
    "    path.reverse()\n",
    "    return path"
   ]
  },
  {
   "cell_type": "markdown",
   "metadata": {},
   "source": [
    "Finally solve the maze"
   ]
  },
  {
   "cell_type": "code",
   "execution_count": 11,
   "metadata": {},
   "outputs": [
    {
     "name": "stdout",
     "output_type": "stream",
     "text": [
      "S XX      \n",
      "    X     \n",
      " XX    X  \n",
      "        X \n",
      "     X   X\n",
      "          \n",
      "X         \n",
      "X      X  \n",
      "X X    X  \n",
      "X        G\n",
      "\n",
      "S*XX      \n",
      " ***X     \n",
      " XX****X  \n",
      "      **X \n",
      "     X **X\n",
      "        **\n",
      "X        *\n",
      "X      X**\n",
      "X X    X* \n",
      "X       *G\n",
      "\n"
     ]
    }
   ],
   "source": [
    "# Test DFS\n",
    "m: Maze = Maze()\n",
    "print(m)\n",
    "solution1: Optional[Node[MazeLocation]] = dfs(m.start, m.goal_test,\n",
    " m.successors)\n",
    "if solution1 is None:\n",
    "    print(\"No solution found using depth-first search!\")\n",
    "else:\n",
    "    path1: List[MazeLocation] = node_to_path(solution1)\n",
    "    m.mark(path1)\n",
    "    print(m)\n",
    "    m.clear(path1)"
   ]
  },
  {
   "cell_type": "markdown",
   "metadata": {},
   "source": [
    "### Breadth-first search\n",
    "Breadth-first search (BFS) always finds the shortest path by systematically looking one layer of nodes farther away from the start state in each iteration of the search. There are particular problems in which a depth-first search is likely to find a solution more quickly than a breadth-first search, and vice versa. Therefore, choosing between the two is sometimes a trade-off between the possibility of finding a solution quickly and the certainty of finding the shortest path to the goal. To implement BFS, a data structure known as a queue is required. FIFO (First-In-First-Out)"
   ]
  },
  {
   "cell_type": "code",
   "execution_count": 12,
   "metadata": {},
   "outputs": [],
   "source": [
    "from typing import Deque\n",
    "\n",
    "class Queue(Generic[T]):\n",
    "    def __init__(self) -> None:\n",
    "        self._container: Deque[T] = Deque()\n",
    "\n",
    "    @property\n",
    "    def empty(self) -> bool:\n",
    "        return not self._container  # not is true for empty container\n",
    "\n",
    "    def push(self, item: T) -> None:\n",
    "        self._container.append(item)\n",
    "\n",
    "    def pop(self) -> T:\n",
    "        return self._container.popleft()  # FIFO\n",
    "\n",
    "    def __repr__(self) -> str:\n",
    "        return repr(self._container)"
   ]
  },
  {
   "cell_type": "markdown",
   "metadata": {},
   "source": [
    "Amazingly, the algorithm for a breadth-first search is identical to the algorithm for a depth-first search, with the frontier changed from a stack to a queue."
   ]
  },
  {
   "cell_type": "code",
   "execution_count": 13,
   "metadata": {},
   "outputs": [],
   "source": [
    "def bfs(initial: T, goal_test: Callable[[T], bool], successors: Callable[[T],\n",
    "     List[T]]) -> Optional[Node[T]]:\n",
    "    # frontier is where we've yet to go\n",
    "    frontier: Queue[Node[T]] = Queue()\n",
    "    frontier.push(Node(initial, None))\n",
    "    # explored is where we've been\n",
    "    explored: Set[T] = {initial}\n",
    "\n",
    "    # keep going while there is more to explore\n",
    "    while not frontier.empty:\n",
    "        current_node: Node[T] = frontier.pop()\n",
    "        current_state: T = current_node.state\n",
    "        # if we found the goal, we're done\n",
    "        if goal_test(current_state):\n",
    "            return current_node\n",
    "        # check where we can go next and haven't explored\n",
    "        for child in successors(current_state):\n",
    "            if child in explored:  # skip children we already explored\n",
    "                continue\n",
    "            explored.add(child)\n",
    "            frontier.push(Node(child, current_node))\n",
    "    return None  # went through everything and never found goal"
   ]
  },
  {
   "cell_type": "code",
   "execution_count": 14,
   "metadata": {},
   "outputs": [
    {
     "name": "stdout",
     "output_type": "stream",
     "text": [
      "S     X   \n",
      "   X      \n",
      " X  XX    \n",
      "X         \n",
      "  X  X  X \n",
      "          \n",
      "  X  X    \n",
      " X        \n",
      " XX      X\n",
      "      XX G\n",
      "\n",
      "S     X   \n",
      "***X      \n",
      " X* XX    \n",
      "X **      \n",
      "  X* X  X \n",
      "   *      \n",
      "  X* X    \n",
      " X *      \n",
      " XX******X\n",
      "      XX*G\n",
      "\n"
     ]
    }
   ],
   "source": [
    "# Test BFS\n",
    "m: Maze = Maze()\n",
    "print(m)\n",
    "solution2: Optional[Node[MazeLocation]] = bfs(m.start, m.goal_test, m.successors)\n",
    "if solution2 is None:\n",
    "    print(\"No solution found using breadth-first search!\")\n",
    "else:\n",
    "    path2: List[MazeLocation] = node_to_path(solution2)\n",
    "    m.mark(path2)\n",
    "    print(m)\n",
    "    m.clear(path2)"
   ]
  },
  {
   "cell_type": "markdown",
   "metadata": {},
   "source": [
    "### A* search \n",
    "It can be very time-consuming to peel back an onion, layer-by-layer, as a breadth-first search does. Like a BFS, an A* search aims to find the shortest path from start state to goal state. An A* search uses a combination of a cost function and a heuristic function to focus its search on pathways most likely to get to the goal quickly.\n",
    "\n",
    "The cost function, g(n), examines the cost to get to a particular state. In the case of our maze, this would be how many previous steps we had to go through to get to the state in question. The heuristic function, h(n), gives an estimate of the cost to get from the state in question to the goal state. It can be proved that if h(n) is an admissible heuristic, then the final path found will be optimal. An admissible heuristic is one that never overestimates the cost to reach the goal. On a two-dimensional plane, one example is a straight-line distance heuristic, because a straight line is always the shortest path.\n",
    "\n",
    "The total cost for any state being considered is f(n), which is simply the combination of g(n) and h(n). In fact, f(n) = g(n) + h(n). When choosing the next state to explore from the frontier, an A* search picks the one with the lowest f(n). This is how it distinguishes itself from BFS and DFS.\n",
    "\n",
    "To pick the state on the frontier with the lowest f(n), an A* search uses a priority queue as the data structure for its frontier. A priority queue keeps its elements in an internal order, such that the first element popped out is always the highest-priority element."
   ]
  },
  {
   "cell_type": "code",
   "execution_count": 15,
   "metadata": {},
   "outputs": [],
   "source": [
    "from heapq import heappush, heappop\n",
    "\n",
    "class PriorityQueue(Generic[T]):\n",
    "    def __init__(self) -> None:\n",
    "        self._container: List[T] = []\n",
    "\n",
    "    @property\n",
    "    def empty(self) -> bool:\n",
    "        return not self._container  # not is true for empty container\n",
    "\n",
    "    def push(self, item: T) -> None:\n",
    "        heappush(self._container, item)  # in by priority\n",
    "\n",
    "    def pop(self) -> T:\n",
    "        return heappop(self._container)  # out by priority\n",
    "\n",
    "    def __repr__(self) -> str:\n",
    "        return repr(self._container)"
   ]
  },
  {
   "cell_type": "markdown",
   "metadata": {},
   "source": [
    "To determine the priority of a particular element versus another of its kind, heappush() and heappop(), compare them by using the < operator. This is why we needed to implement __lt__() on Node earlier. One Node is compared to another by looking at its respective f(n), which is simply the sum of the properties cost and heuristic.\n",
    "For the sake of simplicity, the function astar() does not take a cost-calculation function as a parameter. Instead, we just consider every hop in our maze to be a cost of 1. Each new Node gets assigned a cost based on this simple formula, as well as a heuristic score using a new function passed as a parameter to the search function called heuristic(). Other than these changes, astar() is remarkably similar to bfs()."
   ]
  },
  {
   "cell_type": "code",
   "execution_count": 16,
   "metadata": {},
   "outputs": [],
   "source": [
    "def astar(initial: T, goal_test: Callable[[T], bool], successors:\n",
    "     Callable[[T], List[T]], heuristic: Callable[[T], float]) -> Optional[Node[T]]:\n",
    "    # frontier is where we've yet to go\n",
    "    frontier: PriorityQueue[Node[T]] = PriorityQueue()\n",
    "    frontier.push(Node(initial, None, 0.0, heuristic(initial)))\n",
    "    # explored is where we've been\n",
    "    explored: Dict[T, float] = {initial: 0.0}\n",
    "\n",
    "    # keep going while there is more to explore\n",
    "    while not frontier.empty:\n",
    "        current_node: Node[T] = frontier.pop()\n",
    "        current_state: T = current_node.state\n",
    "        # if we found the goal, we're done\n",
    "        if goal_test(current_state):\n",
    "            return current_node\n",
    "        # check where we can go next and haven't explored\n",
    "        for child in successors(current_state):\n",
    "            new_cost: float = current_node.cost + 1  # 1 assumes a grid, need a cost function \n",
    "                #for more sophisticated apps\n",
    "\n",
    "            if child not in explored or explored[child] > new_cost:\n",
    "                explored[child] = new_cost\n",
    "                frontier.push(Node(child, current_node, new_cost, heuristic(child)))\n",
    "    return None  # went through everything and never found goal"
   ]
  },
  {
   "cell_type": "code",
   "execution_count": 17,
   "metadata": {},
   "outputs": [],
   "source": [
    "#shortest path between two points as a composition of functions (currying)\n",
    "def euclidean_distance(goal: MazeLocation) -> Callable[[MazeLocation], float]:\n",
    "    def distance(ml: MazeLocation) -> float:\n",
    "        xdist: int = ml.column - goal.column\n",
    "        ydist: int = ml.row - goal.row\n",
    "        return sqrt((xdist * xdist) + (ydist * ydist))\n",
    "    return distance\n",
    "\n",
    "#there are no diagonals, the path is along parallel or perpendicular lines\n",
    "def manhattan_distance(goal: MazeLocation) -> Callable[[MazeLocation], float]:\n",
    "    def distance(ml: MazeLocation) -> float:\n",
    "        xdist: int = abs(ml.column - goal.column)\n",
    "        ydist: int = abs(ml.row - goal.row)\n",
    "        return (xdist + ydist)\n",
    "    return distance"
   ]
  },
  {
   "cell_type": "code",
   "execution_count": 18,
   "metadata": {},
   "outputs": [
    {
     "name": "stdout",
     "output_type": "stream",
     "text": [
      "S     X   \n",
      "***X      \n",
      " X* XX    \n",
      "X **      \n",
      "  X* X  X \n",
      "   *      \n",
      "  X**X    \n",
      " X  ***** \n",
      " XX     *X\n",
      "      XX*G\n",
      "\n"
     ]
    }
   ],
   "source": [
    "# Test A*\n",
    "distance: Callable[[MazeLocation], float] = manhattan_distance(m.goal)\n",
    "solution3: Optional[Node[MazeLocation]] = astar(m.start, m.goal_test, m.successors, distance)\n",
    "if solution3 is None:\n",
    "    print(\"No solution found using A*!\")\n",
    "else:\n",
    "    path3: List[MazeLocation] = node_to_path(solution3)\n",
    "    m.mark(path3)\n",
    "    print(m)"
   ]
  },
  {
   "cell_type": "markdown",
   "metadata": {},
   "source": [
    "## Missionaries and cannibals\n",
    "Three missionaries and three cannibals are on the west bank of a river. They have a canoe that can hold two people, and they all must cross to the east bank of the river. There may never be more cannibals than missionaries on either side of the river, or the cannibals will eat the missionaries. Further, the canoe must have at least one person on board to cross the river. What sequence of crossings will successfully take the entire party across the river?\n",
    "\n",
    "We will represent the problem by having a structure that keeps track of the west bank."
   ]
  },
  {
   "cell_type": "code",
   "execution_count": 19,
   "metadata": {},
   "outputs": [],
   "source": [
    "from __future__ import annotations\n",
    "from typing import List, Optional\n",
    "\n",
    "MAX_NUM: int = 3\n",
    "\n",
    "\n",
    "class MCState:\n",
    "    def __init__(self, missionaries: int, cannibals: int, boat: bool) -> None:\n",
    "        self.wm: int = missionaries # west bank missionaries\n",
    "        self.wc: int = cannibals # west bank cannibals\n",
    "        self.em: int = MAX_NUM - self.wm  # east bank missionaries\n",
    "        self.ec: int = MAX_NUM - self.wc  # east bank cannibals\n",
    "        self.boat: bool = boat\n",
    "\n",
    "    def __str__(self) -> str:\n",
    "        return (\"On the west bank there are {} missionaries and {} cannibals.\\n\"\n",
    "                \"On the east bank there are {} missionaries and {} cannibals.\\n\"\n",
    "                \"The boat is on the {} bank.\")\\\n",
    "            .format(self.wm, self.wc, self.em, self.ec, (\"west\" if self.boat else \"east\"))\n",
    "    \n",
    "    #goal is simply when we reach a legal state that has all of the missionaries and cannibals on the east bank\n",
    "    def goal_test(self) -> bool:\n",
    "        return self.is_legal and self.em == MAX_NUM and self.ec == MAX_NUM\n",
    "    \n",
    "    #to create a successors function, it is necessary to go through all of the possible moves that can be made\n",
    "    @property\n",
    "    def is_legal(self) -> bool:\n",
    "        if self.wm < self.wc and self.wm > 0:\n",
    "            return False\n",
    "        if self.em < self.ec and self.em > 0:\n",
    "            return False\n",
    "        return True\n",
    "    \n",
    "    #adding every possible combination of one or two people moving across the river\n",
    "    def successors(self) -> List[MCState]:\n",
    "        sucs: List[MCState] = []\n",
    "        if self.boat: # boat on west bank\n",
    "            if self.wm > 1:\n",
    "                sucs.append(MCState(self.wm - 2, self.wc, not self.boat))\n",
    "            if self.wm > 0:\n",
    "                sucs.append(MCState(self.wm - 1, self.wc, not self.boat))\n",
    "            if self.wc > 1:\n",
    "                sucs.append(MCState(self.wm, self.wc - 2, not self.boat))\n",
    "            if self.wc > 0:\n",
    "                sucs.append(MCState(self.wm, self.wc - 1, not self.boat))\n",
    "            if (self.wc > 0) and (self.wm > 0):\n",
    "                sucs.append(MCState(self.wm - 1, self.wc - 1, not self.boat))\n",
    "        else: # boat on east bank\n",
    "            if self.em > 1:\n",
    "                sucs.append(MCState(self.wm + 2, self.wc, not self.boat))\n",
    "            if self.em > 0:\n",
    "                sucs.append(MCState(self.wm + 1, self.wc, not self.boat))\n",
    "            if self.ec > 1:\n",
    "                sucs.append(MCState(self.wm, self.wc + 2, not self.boat))\n",
    "            if self.ec > 0:\n",
    "                sucs.append(MCState(self.wm, self.wc + 1, not self.boat))\n",
    "            if (self.ec > 0) and (self.em > 0):\n",
    "                sucs.append(MCState(self.wm + 1, self.wc + 1, not self.boat))\n",
    "        return [x for x in sucs if x.is_legal]"
   ]
  },
  {
   "cell_type": "code",
   "execution_count": 20,
   "metadata": {},
   "outputs": [],
   "source": [
    "def display_solution(path: List[MCState]):\n",
    "    if len(path) == 0: # sanity check\n",
    "        return\n",
    "    old_state: MCState = path[0]\n",
    "    print(old_state)\n",
    "    for current_state in path[1:]:\n",
    "        if current_state.boat:\n",
    "            print(\"{} missionaries and {} cannibals moved from the east bank to the west bank.\\n\"\n",
    "                  .format(old_state.em - current_state.em, old_state.ec - current_state.ec))\n",
    "        else:\n",
    "            print(\"{} missionaries and {} cannibals moved from the west bank to the east bank.\\n\"\n",
    "                  .format(old_state.wm - current_state.wm, old_state.wc - current_state.wc))\n",
    "        print(current_state)\n",
    "        old_state = current_state"
   ]
  },
  {
   "cell_type": "code",
   "execution_count": 21,
   "metadata": {},
   "outputs": [
    {
     "name": "stdout",
     "output_type": "stream",
     "text": [
      "On the west bank there are 3 missionaries and 3 cannibals.\n",
      "On the east bank there are 0 missionaries and 0 cannibals.\n",
      "The boat is on the west bank.\n",
      "0 missionaries and 2 cannibals moved from the west bank to the east bank.\n",
      "\n",
      "On the west bank there are 3 missionaries and 1 cannibals.\n",
      "On the east bank there are 0 missionaries and 2 cannibals.\n",
      "The boat is on the east bank.\n",
      "0 missionaries and 1 cannibals moved from the east bank to the west bank.\n",
      "\n",
      "On the west bank there are 3 missionaries and 2 cannibals.\n",
      "On the east bank there are 0 missionaries and 1 cannibals.\n",
      "The boat is on the west bank.\n",
      "0 missionaries and 2 cannibals moved from the west bank to the east bank.\n",
      "\n",
      "On the west bank there are 3 missionaries and 0 cannibals.\n",
      "On the east bank there are 0 missionaries and 3 cannibals.\n",
      "The boat is on the east bank.\n",
      "0 missionaries and 1 cannibals moved from the east bank to the west bank.\n",
      "\n",
      "On the west bank there are 3 missionaries and 1 cannibals.\n",
      "On the east bank there are 0 missionaries and 2 cannibals.\n",
      "The boat is on the west bank.\n",
      "2 missionaries and 0 cannibals moved from the west bank to the east bank.\n",
      "\n",
      "On the west bank there are 1 missionaries and 1 cannibals.\n",
      "On the east bank there are 2 missionaries and 2 cannibals.\n",
      "The boat is on the east bank.\n",
      "1 missionaries and 1 cannibals moved from the east bank to the west bank.\n",
      "\n",
      "On the west bank there are 2 missionaries and 2 cannibals.\n",
      "On the east bank there are 1 missionaries and 1 cannibals.\n",
      "The boat is on the west bank.\n",
      "2 missionaries and 0 cannibals moved from the west bank to the east bank.\n",
      "\n",
      "On the west bank there are 0 missionaries and 2 cannibals.\n",
      "On the east bank there are 3 missionaries and 1 cannibals.\n",
      "The boat is on the east bank.\n",
      "0 missionaries and 1 cannibals moved from the east bank to the west bank.\n",
      "\n",
      "On the west bank there are 0 missionaries and 3 cannibals.\n",
      "On the east bank there are 3 missionaries and 0 cannibals.\n",
      "The boat is on the west bank.\n",
      "0 missionaries and 2 cannibals moved from the west bank to the east bank.\n",
      "\n",
      "On the west bank there are 0 missionaries and 1 cannibals.\n",
      "On the east bank there are 3 missionaries and 2 cannibals.\n",
      "The boat is on the east bank.\n",
      "1 missionaries and 0 cannibals moved from the east bank to the west bank.\n",
      "\n",
      "On the west bank there are 1 missionaries and 1 cannibals.\n",
      "On the east bank there are 2 missionaries and 2 cannibals.\n",
      "The boat is on the west bank.\n",
      "1 missionaries and 1 cannibals moved from the west bank to the east bank.\n",
      "\n",
      "On the west bank there are 0 missionaries and 0 cannibals.\n",
      "On the east bank there are 3 missionaries and 3 cannibals.\n",
      "The boat is on the east bank.\n"
     ]
    }
   ],
   "source": [
    "#look for a solution\n",
    "start: MCState = MCState(MAX_NUM, MAX_NUM, True)\n",
    "solution: Optional[Node[MCState]] = bfs(start, MCState.goal_test, MCState.successors)\n",
    "if solution is None:\n",
    "    print(\"No solution found!\")\n",
    "else:\n",
    "    path: List[MCState] = node_to_path(solution)\n",
    "    display_solution(path)"
   ]
  },
  {
   "cell_type": "code",
   "execution_count": null,
   "metadata": {},
   "outputs": [],
   "source": []
  }
 ],
 "metadata": {
  "kernelspec": {
   "display_name": "Python 3",
   "language": "python",
   "name": "python3"
  },
  "language_info": {
   "codemirror_mode": {
    "name": "ipython",
    "version": 3
   },
   "file_extension": ".py",
   "mimetype": "text/x-python",
   "name": "python",
   "nbconvert_exporter": "python",
   "pygments_lexer": "ipython3",
   "version": "3.7.3"
  }
 },
 "nbformat": 4,
 "nbformat_minor": 2
}
