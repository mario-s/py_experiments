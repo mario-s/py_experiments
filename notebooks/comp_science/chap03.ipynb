{
 "cells": [
  {
   "cell_type": "markdown",
   "metadata": {},
   "source": [
    "# Constraint-satisfaction problems\n",
    "A large number of problems that computational tools are used to solve can be broadly categorized as constraint-satisfaction problems (CSPs). CSPs are composed of variables with possible values that fall into ranges known as domains. Constraints between the variables must be satisfied in order for constraint-satisfaction problems to be solved. Those three core concepts—variables, domains, and constraints—are simple to understand, and their generality underlies the wide applicability of constraint-satisfaction problem solving.\n",
    "\n",
    "Constraints will be defined using a Constraint class. Each Constraint consists of the variables it constrains and a method that checks whether it is satisfied(). The determination of whether a constraint is satisfied is the main logic that goes into defining a specific constraint-satisfaction problem. The default implementation should be overridden. In fact, it must be, because we are defining our Constraint class as an abstract base class. Abstract base classes are not meant to be instantiated. Instead, only their subclasses that override and implement their @abstractmethods are for actual use. "
   ]
  },
  {
   "cell_type": "code",
   "execution_count": 1,
   "metadata": {},
   "outputs": [],
   "source": [
    "from typing import Generic, TypeVar, Dict, List, Optional\n",
    "from abc import ABC, abstractmethod\n",
    "import pprint\n",
    "pp = pprint.PrettyPrinter(indent=2)\n",
    "\n",
    "V = TypeVar('V') # variable type\n",
    "D = TypeVar('D') # domain type\n",
    "\n",
    "# Base class for all constraints\n",
    "class Constraint(Generic[V, D], ABC):\n",
    "    # The variables that the constraint is between\n",
    "    def __init__(self, variables: List[V]) -> None:\n",
    "        self.variables = variables\n",
    "\n",
    "\n",
    "    # Must be overridden by subclasses\n",
    "    @abstractmethod\n",
    "    def satisfied(self, assignment: Dict[V, D]) -> bool:\n",
    "        ..."
   ]
  },
  {
   "cell_type": "markdown",
   "metadata": {},
   "source": [
    "The centerpiece of our constraint-satisfaction framework will be a class called CSP. CSP is the gathering point for variables, domains, and constraints. In terms of its type hints, it uses generics to make itself flexible enough to work with any kind of variables and domain values (V keys and D domain values). "
   ]
  },
  {
   "cell_type": "code",
   "execution_count": 2,
   "metadata": {},
   "outputs": [],
   "source": [
    "# A constraint satisfaction problem consists of variables of type V\n",
    "# that have ranges of values known as domains of type D and constraints\n",
    "# that determine whether a particular variable's domain selection is valid\n",
    "class CSP(Generic[V, D]):\n",
    "    def __init__(self, variables: List[V], domains: Dict[V, List[D]]) -> None:\n",
    "        self.variables: List[V] = variables # variables to be constrained\n",
    "        self.domains: Dict[V, List[D]] = domains # domain of each variable\n",
    "        self.constraints: Dict[V, List[Constraint[V, D]]] = {}\n",
    "        for variable in self.variables:\n",
    "            self.constraints[variable] = []\n",
    "            if variable not in self.domains:\n",
    "                raise LookupError(\"Every variable should have a domain assigned to it: {}\")\n",
    "\n",
    "    def add_constraint(self, constraint: Constraint[V, D]) -> None:\n",
    "        for variable in constraint.variables:\n",
    "            if variable not in self.variables:\n",
    "                raise LookupError(\"Variable in constraint not in CSP\")\n",
    "            else:\n",
    "                self.constraints[variable].append(constraint)\n",
    "                \n",
    "    # Check if the value assignment is consistent by checking all constraints\n",
    "    # for the given variable against it\n",
    "    def consistent(self, variable: V, assignment: Dict[V, D]) -> bool:\n",
    "        for constraint in self.constraints[variable]:\n",
    "            if not constraint.satisfied(assignment):\n",
    "                return False\n",
    "        return True\n",
    "    \n",
    "    # This constraint-satisfaction framework will use a simple backtracking search to find \n",
    "    # solutions to problems. Backtracking is the idea that once you hit a wall in your search, \n",
    "    # you go back to the last known point where you made a decision before the wall, and choose a different path. \n",
    "    def backtracking_search(self, assignment: Dict[V, D] = {}) -> Optional[Dict[V, D]]:\n",
    "        # assignment is complete if every variable is assigned (our base case)\n",
    "        if len(assignment) == len(self.variables):\n",
    "            return assignment\n",
    "\n",
    "        # get all variables in the CSP but not in the assignment\n",
    "        unassigned: List[V] = [v for v in self.variables if v not in assignment]\n",
    "\n",
    "        # get the every possible domain value of the first unassigned variable\n",
    "        first: V = unassigned[0]\n",
    "        for value in self.domains[first]:\n",
    "            local_assignment = assignment.copy()\n",
    "            local_assignment[first] = value\n",
    "            # if we're still consistent, we recurse (continue)\n",
    "            if self.consistent(first, local_assignment):\n",
    "                result: Optional[Dict[V, D]] = self.backtracking_search(local_assignment)\n",
    "                # if we didn't find the result, we will end up backtracking\n",
    "                if result is not None:\n",
    "                    return result\n",
    "        return None"
   ]
  },
  {
   "cell_type": "markdown",
   "metadata": {},
   "source": [
    "## Map-Coloring Problem\n",
    "Imagine you have a map of Australia that you want to color by state/territory. No two adjacent regions should share a color. Can you color the regions with just three different colors? It is a trivial problem, really, and a great first problem for our backtracking constraint-satisfaction solver.\n",
    "\n",
    "To model the problem as a CSP, we need to define the variables, domains, and constraints. The variables are the seven regions of Australia. In our CSP, they can be modeled with strings. The domain of each variable is the three different colors that can possibly be assigned. The constraints are the tricky part. No two adjacent regions can be colored with the same color, so our constraints will be dependent on which regions border one another. We can use what are called binary constraints (constraints between two variables). Every two regions that share a border will also share a binary constraint indicating that they cannot be assigned the same color. \n",
    "\n",
    "To implement these binary constraints in code, we need to subclass the Constraint class. The MapColoringConstraint subclass will take two variables in its constructor: the two regions that share a border. Its overridden satisfied() method will check first whether the two regions have domain values assigned to them; if either does not, the constraint is trivially satisfied until they do. (There cannot be a conflict when one does not yet have a color.) Then it will check whether the two regions are assigned the same color. Obviously, there is a conflict, meaning that the constraint is not satisfied, when they are the same. "
   ]
  },
  {
   "cell_type": "code",
   "execution_count": 3,
   "metadata": {},
   "outputs": [],
   "source": [
    "from typing import Dict, List, Optional\n",
    "\n",
    "class MapColoringConstraint(Constraint[str, str]):\n",
    "    def __init__(self, place1: str, place2: str) -> None:\n",
    "        super().__init__([place1, place2])\n",
    "        self.place1: str = place1\n",
    "        self.place2: str = place2\n",
    "\n",
    "    def satisfied(self, assignment: Dict[str, str]) -> bool:\n",
    "        # If either place is not in the assignment, then it is not\n",
    "        # yet possible for their colors to be conflicting\n",
    "        if self.place1 not in assignment or self.place2 not in assignment:\n",
    "            return True\n",
    "        # check the color assigned to place1 is not the same as the\n",
    "        # color assigned to place2\n",
    "        return assignment[self.place1] != assignment[self.place2]"
   ]
  },
  {
   "cell_type": "markdown",
   "metadata": {},
   "source": [
    "Now that we have a way of implementing the constraints between regions, fleshing out the Australian map-coloring problem with our CSP solver is simply a matter of filling in domains and variables, and then adding constraints. "
   ]
  },
  {
   "cell_type": "code",
   "execution_count": 4,
   "metadata": {},
   "outputs": [
    {
     "name": "stdout",
     "output_type": "stream",
     "text": [
      "{ 'New South Wales': 'green',\n",
      "  'Northern Territory': 'green',\n",
      "  'Queensland': 'red',\n",
      "  'South Australia': 'blue',\n",
      "  'Tasmania': 'green',\n",
      "  'Victoria': 'red',\n",
      "  'Western Australia': 'red'}\n"
     ]
    }
   ],
   "source": [
    "variables: List[str] = [\"Western Australia\", \"Northern Territory\", \"South Australia\", \"Queensland\", \n",
    "                        \"New South Wales\", \"Victoria\", \"Tasmania\"]\n",
    "domains: Dict[str, List[str]] = {}\n",
    "for variable in variables:\n",
    "    domains[variable] = [\"red\", \"green\", \"blue\"]\n",
    "\n",
    "csp: CSP[str, str] = CSP(variables, domains)\n",
    "csp.add_constraint(MapColoringConstraint(\"Western Australia\", \"Northern Territory\"))\n",
    "csp.add_constraint(MapColoringConstraint(\"Western Australia\", \"South Australia\"))\n",
    "csp.add_constraint(MapColoringConstraint(\"South Australia\", \"Northern Territory\"))\n",
    "csp.add_constraint(MapColoringConstraint(\"Queensland\", \"Northern Territory\"))\n",
    "csp.add_constraint(MapColoringConstraint(\"Queensland\", \"South Australia\"))\n",
    "csp.add_constraint(MapColoringConstraint(\"Queensland\", \"New South Wales\"))\n",
    "csp.add_constraint(MapColoringConstraint(\"New South Wales\", \"South Australia\"))\n",
    "csp.add_constraint(MapColoringConstraint(\"Victoria\", \"South Australia\"))\n",
    "csp.add_constraint(MapColoringConstraint(\"Victoria\", \"New South Wales\"))\n",
    "csp.add_constraint(MapColoringConstraint(\"Victoria\", \"Tasmania\"))\n",
    "\n",
    "solution: Optional[Dict[str, str]] = csp.backtracking_search()\n",
    "if solution is None:\n",
    "    print(\"No solution found!\")\n",
    "else:\n",
    "    pp.pprint(solution)"
   ]
  },
  {
   "cell_type": "markdown",
   "metadata": {},
   "source": [
    "## The eight queens problem \n",
    "A chessboard is an eight-by-eight grid of squares. A queen is a chess piece that can move on the chessboard any number of squares along any row, column, or diagonal. A queen is attacking another piece if in a single move, it can move to the square the piece is on without jumping over any other piece. The eight queens problem poses the question of how eight queens can be placed on a chessboard without any queen attacking another queen.\n",
    "\n",
    "To represent squares on the chessboard, we will assign each an integer row and an integer column. We can ensure each of the eight queens is not on the same column by simply assigning them sequentially the columns 1 through 8. The variables in our constraint-satisfaction problem can just be the column of the queen in question. The domains can be the possible rows (again, 1 through 8).\n",
    "\n",
    "To solve the problem, we will need a constraint that checks whether any two queens are on the same row or diagonal. (They were all assigned different sequential columns to begin with.) Checking for the same row is trivial, but checking for the same diagonal requires a little bit of math. If any two queens are on the same diagonal, the difference between their rows will be the same as the difference between their columns."
   ]
  },
  {
   "cell_type": "code",
   "execution_count": 5,
   "metadata": {},
   "outputs": [
    {
     "name": "stdout",
     "output_type": "stream",
     "text": [
      "{1: 1, 2: 5, 3: 8, 4: 6, 5: 3, 6: 7, 7: 2, 8: 4}\n"
     ]
    }
   ],
   "source": [
    "from typing import Dict, List, Optional\n",
    "\n",
    "class QueensConstraint(Constraint[int, int]):\n",
    "    def __init__(self, columns: List[int]) -> None:\n",
    "        super().__init__(columns)\n",
    "        self.columns: List[int] = columns\n",
    "\n",
    "    def satisfied(self, assignment: Dict[int, int]) -> bool:\n",
    "       # q1c = queen 1 column, q1r = queen 1 row\n",
    "        for q1c, q1r in assignment.items(): \n",
    "        # q2c = queen 2 column\n",
    "            for q2c in range(q1c + 1, len(self.columns) + 1): \n",
    "                if q2c in assignment:\n",
    "                    q2r: int = assignment[q2c] # q2r = queen 2 row\n",
    "                    if q1r == q2r: # same row?\n",
    "                        return False\n",
    "                    if abs(q1r - q2r) == abs(q1c - q2c): # same diagonal?\n",
    "                        return False\n",
    "        return True # no conflict\n",
    "\n",
    "# run the search\n",
    "columns: List[int] = [1, 2, 3, 4, 5, 6, 7, 8]\n",
    "rows: Dict[int, List[int]] = {}\n",
    "for column in columns:\n",
    "    rows[column] = [1, 2, 3, 4, 5, 6, 7, 8]\n",
    "    \n",
    "csp: CSP[int, int] = CSP(columns, rows)\n",
    "csp.add_constraint(QueensConstraint(columns))\n",
    "solution: Optional[Dict[int, int]] = csp.backtracking_search()\n",
    "if solution is None:\n",
    "    print(\"No solution found!\")\n",
    "else:\n",
    "    print(solution)"
   ]
  },
  {
   "cell_type": "markdown",
   "metadata": {},
   "source": [
    "## Word search\n",
    "A word search is a grid of letters with hidden words placed along rows, columns, and diagonals. A player of a word-search puzzle attempts to find the hidden words by carefully scanning through the grid. Finding places to put the words so that they all fit on the grid is a kind of constraint-satisfaction problem. The variables are the words, and the domains are the possible locations of those words.\n",
    "\n",
    "The grid of this word-search problem is not entirely dissimilar from the mazes of chapter 2."
   ]
  },
  {
   "cell_type": "code",
   "execution_count": 6,
   "metadata": {},
   "outputs": [],
   "source": [
    "from typing import NamedTuple, List, Dict, Optional\n",
    "from random import choice\n",
    "from string import ascii_uppercase\n",
    "\n",
    "Grid = List[List[str]]  # type alias for grids\n",
    "\n",
    "\n",
    "class Location(NamedTuple):\n",
    "    row: int\n",
    "    column: int\n",
    "              \n",
    "\n",
    "def generate_grid(rows: int, columns: int) -> Grid:\n",
    "    # initialize grid with random letters\n",
    "    return [[choice(ascii_uppercase) for c in range(columns)] for r in\n",
    "     range(rows)]\n",
    "\n",
    "def display_grid(grid: Grid) -> None:\n",
    "    for row in grid:\n",
    "        print(\"\".join(row))"
   ]
  },
  {
   "cell_type": "markdown",
   "metadata": {},
   "source": [
    "To figure out where words can fit in the grid, we will generate their domains. The domain of a word is a list of lists of the possible locations of all of its letters. Words cannot just go anywhere, though. They must stay within a row, column, or diagonal that is within the bounds of the grid. In other words, they should not go off the end of the grid."
   ]
  },
  {
   "cell_type": "code",
   "execution_count": 7,
   "metadata": {},
   "outputs": [],
   "source": [
    "def generate_domain(word: str, grid: Grid) -> List[List[Location]]:\n",
    "    domain: List[List[Locat:ion]] = []\n",
    "    height: int = len(grid)\n",
    "    width: int = len(grid[0])\n",
    "    length: int = len(word)\n",
    "    for row in range(height):\n",
    "        for col in range(width):\n",
    "            columns: range = range(col, col + length + 1)\n",
    "            rows: range = range(row, row + length + 1)\n",
    "            if col + length <= width:\n",
    "                # left to right\n",
    "                domain.append([Location(row, c) for c in columns])\n",
    "                # diagonal towards bottom right\n",
    "                if row + length <= height:\n",
    "                    domain.append([Location(r, col + (r - row)) for r in rows])\n",
    "            if row + length <= height:\n",
    "                # top to bottom\n",
    "                domain.append([Location(r, col) for r in rows])\n",
    "                # diagonal towards bottom left\n",
    "                if col - length >= 0:\n",
    "                    domain.append([Location(r, col - (r - row)) for r in rows])\n",
    "    return domain"
   ]
  },
  {
   "cell_type": "markdown",
   "metadata": {},
   "source": [
    "The satisfied() method of WordSearchConstraint simply checks whether any of the locations proposed for one word are the same as a location proposed for another word. It does this using a set. Converting a list into a set will remove all duplicates. If there are fewer items in a set converted from a list than there were in the original list, that means the original list contained some duplicates."
   ]
  },
  {
   "cell_type": "code",
   "execution_count": 8,
   "metadata": {},
   "outputs": [],
   "source": [
    "class WordSearchConstraint(Constraint[str, List[Location]]):\n",
    "    def __init__(self, words: List[str]) -> None:\n",
    "        super().__init__(words)\n",
    "        self.words: List[str] = words\n",
    "\n",
    "    def satisfied(self, assignment: Dict[str, List[Location]]) -> bool:\n",
    "        # if there are any duplicates grid locations, then there is an overlap\n",
    "        all_locations = [locs for values in assignment.values() for locs in values]\n",
    "        return len(set(all_locations)) == len(all_locations)"
   ]
  },
  {
   "cell_type": "code",
   "execution_count": 9,
   "metadata": {},
   "outputs": [
    {
     "name": "stdout",
     "output_type": "stream",
     "text": [
      "========== solution ==========\n",
      "MATTHEW\n",
      "[ Location(row=0, column=0),\n",
      "  Location(row=0, column=1),\n",
      "  Location(row=0, column=2),\n",
      "  Location(row=0, column=3),\n",
      "  Location(row=0, column=4),\n",
      "  Location(row=0, column=5),\n",
      "  Location(row=0, column=6),\n",
      "  Location(row=0, column=7)]\n",
      "JOE\n",
      "[ Location(row=0, column=8),\n",
      "  Location(row=1, column=8),\n",
      "  Location(row=2, column=8),\n",
      "  Location(row=3, column=8)]\n",
      "MARY\n",
      "[ Location(row=1, column=0),\n",
      "  Location(row=1, column=1),\n",
      "  Location(row=1, column=2),\n",
      "  Location(row=1, column=3),\n",
      "  Location(row=1, column=4)]\n",
      "SARAH\n",
      "[ Location(row=1, column=5),\n",
      "  Location(row=2, column=5),\n",
      "  Location(row=3, column=5),\n",
      "  Location(row=4, column=5),\n",
      "  Location(row=5, column=5),\n",
      "  Location(row=6, column=5)]\n",
      "SALLY\n",
      "[ Location(row=1, column=6),\n",
      "  Location(row=2, column=6),\n",
      "  Location(row=3, column=6),\n",
      "  Location(row=4, column=6),\n",
      "  Location(row=5, column=6),\n",
      "  Location(row=6, column=6)]\n",
      "========== solution ==========\n",
      "MATTHEWRJ\n",
      "MARYPSSEO\n",
      "ASCJGAAWE\n",
      "TFZFMRLNX\n",
      "RMUDOALVE\n",
      "VFBGVHYXC\n",
      "XXDJBNBUQ\n",
      "SCTOWYMRO\n",
      "BDSASSSZT\n"
     ]
    }
   ],
   "source": [
    "grid: Grid = generate_grid(9, 9)\n",
    "words: List[str] = [\"MATTHEW\", \"JOE\", \"MARY\", \"SARAH\", \"SALLY\"]\n",
    "locations: Dict[str, List[List[Location]]] = {}\n",
    "for word in words:\n",
    "    locations[word] = generate_domain(word, grid)\n",
    "\n",
    "csp: CSP[str, List[Location]] = CSP(words, locations)\n",
    "csp.add_constraint(WordSearchConstraint(words))\n",
    "\n",
    "solution: Optional[Dict[str, List[Location]]] = csp.backtracking_search()\n",
    "if solution is None:\n",
    "    print(\"No solution found!\")\n",
    "else:\n",
    "    print(\"========== solution ==========\")\n",
    "    for word, grid_locations in solution.items():\n",
    "        print(word)\n",
    "        pp.pprint(grid_locations)\n",
    "        for index, letter in enumerate(word):\n",
    "            (row, col) = (grid_locations[index].row, grid_locations[index].column)\n",
    "            grid[row][col] = letter \n",
    "    print(\"========== solution ==========\")\n",
    "    display_grid(grid)"
   ]
  },
  {
   "cell_type": "markdown",
   "metadata": {},
   "source": [
    "## Circuit board layout\n",
    "A manufacturer needs to fit certain rectangular chips onto a rectangular circuit board. Essentially, this problem asks, “How can several different-sized rectangles all fit snugly inside of another rectangle?”\n",
    "\n",
    "The circuit board layout problem is similar to the word-search problem. Instead of 1×N rectangles (words), the problem presents M×N rectangles. Like in the word-search problem, the rectangles cannot overlap. The rectangles cannot be put on diagonals, so in that sense the problem is actually simpler than the word search. "
   ]
  },
  {
   "cell_type": "code",
   "execution_count": 10,
   "metadata": {},
   "outputs": [],
   "source": [
    "class CircuitBoard(NamedTuple):\n",
    "    color: str\n",
    "    width: int\n",
    "    height: int\n",
    "        \n",
    "    def generate_board(self, width: int, height: int) -> [Location]:\n",
    "        board = []\n",
    "        for col in range(width - self.width + 1):\n",
    "            for row in range(height - self.height + 1):\n",
    "                loc = Location(col, row)\n",
    "                board.append(loc)\n",
    "        return board"
   ]
  },
  {
   "cell_type": "markdown",
   "metadata": {},
   "source": [
    "We create a class for a rectangle that provides a method to check if two rectangles intersects."
   ]
  },
  {
   "cell_type": "code",
   "execution_count": 11,
   "metadata": {},
   "outputs": [],
   "source": [
    "class Point():\n",
    "    x = None\n",
    "    y = None\n",
    "\n",
    "    def __init__(self, x, y):\n",
    "        self.x, self.y = x, y\n",
    "\n",
    "    def __str__(self):\n",
    "        return \"({},{})\".format(self.x, self.y)\n",
    "\n",
    "\n",
    "class Rect:\n",
    "    def __init__(self, x: int, y: int, width: int, height: int):\n",
    "        self.l_top  = Point(x, y)\n",
    "        self.r_top  = Point(x+width, y)\n",
    "        self.r_bot  = Point(x+width, y+height)\n",
    "        self.l_bot  = Point(x, y+height)\n",
    "        self.width = width\n",
    "        self.height = height\n",
    "    \n",
    "    def intersects(self, r):\n",
    "        tw = self.width\n",
    "        th = self.height\n",
    "        rw = r.width\n",
    "        rh = r.height\n",
    "        if (rw <= 0 or rh <= 0 or tw <= 0 or th <= 0):\n",
    "            return False\n",
    "        \n",
    "        tx = self.l_top.x\n",
    "        ty = self.l_top.y\n",
    "        rx = r.l_top.x\n",
    "        ry = r.l_top.y\n",
    "        rw += rx\n",
    "        rh += ry\n",
    "        tw += tx\n",
    "        th += ty\n",
    "        #      overflow || intersect\n",
    "        return ((rw < rx or rw > tx) and\n",
    "                (rh < ry or rh > ty) and\n",
    "                (tw < tx or tw > rx) and\n",
    "                (th < ty or th > ry))\n",
    "\n",
    "    #for debugging purpose\n",
    "    def __str__(self):\n",
    "        return \"{},{};{},{}\".format(self.l_top, self.r_top, self.r_bot, self.l_bot)"
   ]
  },
  {
   "cell_type": "code",
   "execution_count": 12,
   "metadata": {},
   "outputs": [],
   "source": [
    "class CircuitBoardConstraint(Constraint[CircuitBoard, Location]):\n",
    "    def __init__(self, left: CircuitBoard, right: CircuitBoard) -> None:\n",
    "        super().__init__([left, right])\n",
    "        self.left: CircuitBoad = left\n",
    "        self.right: CircuitBoad = right\n",
    "            \n",
    "    def satisfied(self, assignment: Dict[CircuitBoard, Location]) -> bool:\n",
    "        var1 = assignment.get(self.left)\n",
    "        var2 = assignment.get(self.right)\n",
    "        if var1 == None or var2 == None:\n",
    "            return True\n",
    "        #check that left does not overlap right\n",
    "        rect1 = Rect(var1.column, var1.row, self.left.width, self.left.height)\n",
    "        rect2 = Rect(var2.column, var2.row, self.right.width, self.right.height)\n",
    "        intersects = rect1.intersects(rect2)\n",
    "        #print(\"{} - {} => {}\".format(rect1, rect2, intersects))\n",
    "        return not intersects"
   ]
  },
  {
   "cell_type": "code",
   "execution_count": 13,
   "metadata": {},
   "outputs": [],
   "source": [
    "#plots the items of the solution\n",
    "def plot_solution(items):\n",
    "    %matplotlib inline\n",
    "    import matplotlib\n",
    "    import matplotlib.pyplot as plt\n",
    "\n",
    "    plt.title(\"circuit board\")\n",
    "    plt.xlabel(\"column\")\n",
    "    plt.ylabel(\"row\")\n",
    "    plt.grid(True)\n",
    "\n",
    "    for board, location in items:\n",
    "        x = location.column\n",
    "        y = location.row\n",
    "        rectangle = plt.Rectangle((x, y), board.width, board.height, fc=board.color)\n",
    "        plt.gca().add_patch(rectangle)\n",
    "\n",
    "    plt.axis('scaled')\n",
    "    plt.show()"
   ]
  },
  {
   "cell_type": "markdown",
   "metadata": {},
   "source": [
    "Prepare variables and domains."
   ]
  },
  {
   "cell_type": "code",
   "execution_count": 14,
   "metadata": {},
   "outputs": [],
   "source": [
    "board_width = 20\n",
    "board_height = 20\n",
    "\n",
    "variables: [CircuitBoard] = [CircuitBoard(\"red\",10,10),\n",
    "                             CircuitBoard(\"brown\",8,4),\n",
    "                             CircuitBoard(\"blue\",5,5),\n",
    "                             CircuitBoard(\"yellow\",2,2),\n",
    "                             CircuitBoard(\"green\",5,10),\n",
    "                             CircuitBoard(\"pink\",4,4),\n",
    "                             CircuitBoard(\"orange\",6,6)]\n",
    "    \n",
    "domains: Dict[CircuitBoard, Location] = {}\n",
    "for variable in variables:\n",
    "    domains[variable] = variable.generate_board(board_width, board_height)\n",
    "    \n",
    "csp: CSP[CircuitBoard, List[Location]] = CSP(variables, domains)\n",
    "\n",
    "l: int = len(variables)\n",
    "for i in range(0, l):\n",
    "    for j in range(i+1, l):\n",
    "        csp.add_constraint(CircuitBoardConstraint(variables[i], variables[j]))"
   ]
  },
  {
   "cell_type": "markdown",
   "metadata": {},
   "source": [
    "Find a possible solution with back tracking search algorithm."
   ]
  },
  {
   "cell_type": "code",
   "execution_count": 15,
   "metadata": {},
   "outputs": [
    {
     "name": "stdout",
     "output_type": "stream",
     "text": [
      "CircuitBoard(color='red', width=10, height=10) => Location(row=0, column=0)\n",
      "CircuitBoard(color='brown', width=8, height=4) => Location(row=0, column=10)\n",
      "CircuitBoard(color='blue', width=5, height=5) => Location(row=4, column=10)\n",
      "CircuitBoard(color='yellow', width=2, height=2) => Location(row=0, column=18)\n",
      "CircuitBoard(color='green', width=5, height=10) => Location(row=9, column=10)\n",
      "CircuitBoard(color='pink', width=4, height=4) => Location(row=4, column=15)\n",
      "CircuitBoard(color='orange', width=6, height=6) => Location(row=10, column=0)\n"
     ]
    },
    {
     "data": {
      "image/png": "[encoded data removed]",
      "text/plain": [
       "<Figure size 432x288 with 1 Axes>"
      ]
     },
     "metadata": {
      "needs_background": "light"
     },
     "output_type": "display_data"
    }
   ],
   "source": [
    "solution: Optional[Dict[CircuitBoard, List[Location]]] = csp.backtracking_search()\n",
    "    \n",
    "if solution is None:\n",
    "    print(\"No solution found!\")\n",
    "else:\n",
    "    items = solution.items()\n",
    "    \n",
    "    for board, location in items:\n",
    "        print(\"{} => {}\".format(board, location)) \n",
    "        \n",
    "    plot_solution(items)"
   ]
  },
  {
   "cell_type": "code",
   "execution_count": null,
   "metadata": {},
   "outputs": [],
   "source": []
  }
 ],
 "metadata": {
  "kernelspec": {
   "display_name": "Python 3",
   "language": "python",
   "name": "python3"
  },
  "language_info": {
   "codemirror_mode": {
    "name": "ipython",
    "version": 3
   },
   "file_extension": ".py",
   "mimetype": "text/x-python",
   "name": "python",
   "nbconvert_exporter": "python",
   "pygments_lexer": "ipython3",
   "version": "3.7.3"
  }
 },
 "nbformat": 4,
 "nbformat_minor": 2
}
