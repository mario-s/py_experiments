{
 "cells": [
  {
   "cell_type": "markdown",
   "metadata": {},
   "source": [
    "# Computer Science Problems in Python"
   ]
  },
  {
   "cell_type": "markdown",
   "metadata": {},
   "source": [
    "## fibonacci sample\n",
    "### using dict for memoization\n",
    "\n",
    "To avoid stack overflow errors and increase performance during recursive method call we use a technique, called memoization."
   ]
  },
  {
   "cell_type": "code",
   "execution_count": 1,
   "metadata": {},
   "outputs": [
    {
     "name": "stdout",
     "output_type": "stream",
     "text": [
      "5\n",
      "12586269025\n"
     ]
    }
   ],
   "source": [
    "from typing import Dict\n",
    "\n",
    "memo: Dict[int, int] = {0:0, 1:1}\n",
    "\n",
    "def fib1(n: int) -> int:\n",
    "    if n not in memo:\n",
    "        memo[n] = fib1(n-1) + fib1(n-2)\n",
    "    return memo[n]\n",
    "    \n",
    "print(fib1(5))\n",
    "print(fib1(50))"
   ]
  },
  {
   "cell_type": "markdown",
   "metadata": {
    "collapsed": true
   },
   "source": [
    "### using decorator for memoization"
   ]
  },
  {
   "cell_type": "code",
   "execution_count": 2,
   "metadata": {},
   "outputs": [
    {
     "name": "stdout",
     "output_type": "stream",
     "text": [
      "5\n",
      "12586269025\n"
     ]
    }
   ],
   "source": [
    "from functools import lru_cache\n",
    "\n",
    "@lru_cache(maxsize=None)\n",
    "def fib2(n: int) -> int:\n",
    "    if n < 2:\n",
    "        return n\n",
    "    return fib2(n-1) + fib2(n-2)\n",
    "\n",
    "print(fib2(5))\n",
    "print(fib2(50))"
   ]
  },
  {
   "cell_type": "markdown",
   "metadata": {},
   "source": [
    "### iterative style"
   ]
  },
  {
   "cell_type": "code",
   "execution_count": 3,
   "metadata": {},
   "outputs": [
    {
     "name": "stdout",
     "output_type": "stream",
     "text": [
      "5\n",
      "12586269025\n"
     ]
    }
   ],
   "source": [
    "from typing import Generator\n",
    "\n",
    "def fib3(n: int) -> Generator[int, None, None]:\n",
    "    if n == 0: return n\n",
    "    \n",
    "    last: int = 0\n",
    "    next: int = 1\n",
    "\n",
    "    for _ in range(1, n):\n",
    "        last, next = next, last + next #variable swap\n",
    "        \n",
    "    return next\n",
    "\n",
    "print(fib3(5))\n",
    "print(fib3(50))"
   ]
  },
  {
   "cell_type": "markdown",
   "metadata": {},
   "source": [
    "### print each number"
   ]
  },
  {
   "cell_type": "code",
   "execution_count": 4,
   "metadata": {},
   "outputs": [
    {
     "name": "stdout",
     "output_type": "stream",
     "text": [
      "0\n",
      "1\n",
      "1\n",
      "2\n",
      "3\n",
      "5\n"
     ]
    }
   ],
   "source": [
    "def fib4(n: int) -> Generator[int, None, None]:\n",
    "    yield 0\n",
    "    if n > 0: yield 1\n",
    "    \n",
    "    last: int = 0\n",
    "    next: int = 1\n",
    "\n",
    "    for _ in range(1, n):\n",
    "        last, next = next, last + next\n",
    "        yield next\n",
    "        \n",
    "for i in fib4(5):\n",
    "        print(i)"
   ]
  },
  {
   "cell_type": "markdown",
   "metadata": {},
   "source": [
    "## Sample of compression: nucleotide (ACGT) stored as bit in stead of string\n",
    "\n",
    "* A = 00\n",
    "* C = 01\n",
    "* G = 10\n",
    "* T = 11"
   ]
  },
  {
   "cell_type": "code",
   "execution_count": 5,
   "metadata": {},
   "outputs": [
    {
     "name": "stdout",
     "output_type": "stream",
     "text": [
      "original is 479 bytes\n",
      "compressed is 140 bytes\n",
      "TAGGGATTAACCGTTATATATATATAGCCATGGATCGATTATATAGGGATTAACCGTTATATATATATAGCCATGGATCGATTATATAGGGATTAACCGTTATATATATATAGCCATGGATCGATTATATAGGGATTAACCGTTATATATATATAGCCATGGATCGATTATATAGGGATTAACCGTTATATATATATAGCCATGGATCGATTATATAGGGATTAACCGTTATATATATATAGCCATGGATCGATTATATAGGGATTAACCGTTATATATATATAGCCATGGATCGATTATATAGGGATTAACCGTTATATATATATAGCCATGGATCGATTATATAGGGATTAACCGTTATATATATATAGCCATGGATCGATTATATAGGGATTAACCGTTATATATATATAGCCATGGATCGATTATA\n",
      "original and decompressed are the same: True\n"
     ]
    }
   ],
   "source": [
    "class CompressedGene:\n",
    "    def __init__(self, gene: str) -> None:\n",
    "        self._compress(gene)\n",
    "\n",
    "    def _compress(self, gene: str) -> None:\n",
    "        self.bit_string: int = 1  # start with sentinel\n",
    "        for nucleotide in gene.upper():\n",
    "            self.bit_string <<= 2  # shift left two bits\n",
    "            if nucleotide == \"A\":  # change last two bits to 00\n",
    "                self.bit_string |= 0b00\n",
    "            elif nucleotide == \"C\":  # change last two bits to 01\n",
    "                self.bit_string |= 0b01\n",
    "            elif nucleotide == \"G\":  # change last two bits to 10\n",
    "                self.bit_string |= 0b10\n",
    "            elif nucleotide == \"T\":  # change last two bits to 11\n",
    "                self.bit_string |= 0b11\n",
    "            else:\n",
    "                raise ValueError(\"Invalid nucleotide:{}\".format(nucleotide))\n",
    "\n",
    "    def decompress(self) -> str:\n",
    "        gene: str = \"\"\n",
    "        for i in range(0, self.bit_string.bit_length() - 1, 2):  # - 1 to exclude sentinel\n",
    "            bits: int = self.bit_string >> i & 0b11  # get just 2 relevant bits\n",
    "            if bits == 0b00:  # A\n",
    "                gene += \"A\"\n",
    "            elif bits == 0b01:  # C\n",
    "                gene += \"C\"\n",
    "            elif bits == 0b10:  # G\n",
    "                gene += \"G\"\n",
    "            elif bits == 0b11:  # T\n",
    "                gene += \"T\"\n",
    "            else:\n",
    "                raise ValueError(\"Invalid bits:{}\".format(bits))\n",
    "        return gene[::-1]  # [::-1] reverses string by slicing backward\n",
    "\n",
    "    def __str__(self) -> str:  # string representation for pretty printing\n",
    "        return self.decompress()\n",
    "    \n",
    "\n",
    "from sys import getsizeof\n",
    "\n",
    "original: str = \"TAGGGATTAACCGTTATATATATATAGCCATGGATCGATTATA\" * 10\n",
    "print(\"original is {} bytes\".format(getsizeof(original)))\n",
    "\n",
    "compressed: CompressedGene = CompressedGene(original)  # compress\n",
    "print(\"compressed is {} bytes\".format(getsizeof(compressed.bit_string)))\n",
    "\n",
    "# decompress\n",
    "print(compressed)  \n",
    "\n",
    "print(\"original and decompressed are the same: {}\".format(original == compressed.decompress()))"
   ]
  },
  {
   "cell_type": "markdown",
   "metadata": {},
   "source": [
    "## Encryption\n",
    "\n",
    "A one-time pad is a way of encrypting a piece of data by combining it with meaningless \n",
    "random dummy data in such a way that the original cannot be reconstituted without access \n",
    "to both the product and the dummy data. In essence, this leaves the encrypter with a key \n",
    "pair. One key is the product, and the other is the random dummy data."
   ]
  },
  {
   "cell_type": "code",
   "execution_count": 6,
   "metadata": {},
   "outputs": [
    {
     "name": "stdout",
     "output_type": "stream",
     "text": [
      "1329362375362379684150920081274 7578983132105860114807361276763\n",
      "One Time Pad!\n"
     ]
    }
   ],
   "source": [
    "from secrets import token_bytes\n",
    "from typing import Tuple\n",
    "\n",
    "def random_key(length: int) -> int:\n",
    "    # generate length random bytes\n",
    "    tb: bytes = token_bytes(length)\n",
    "    # convert those bytes into a bit string and return it\n",
    "    return int.from_bytes(tb, \"big\")\n",
    "\n",
    "def encrypt(original: str) -> Tuple[int, int]:\n",
    "    original_bytes: bytes = original.encode()\n",
    "    dummy: int = random_key(len(original_bytes))\n",
    "    original_key: int = int.from_bytes(original_bytes, \"big\")\n",
    "    encrypted: int = original_key ^ dummy  # XOR\n",
    "    return dummy, encrypted\n",
    "\n",
    "def decrypt(key1: int, key2: int) -> str:\n",
    "    decrypted: int = key1 ^ key2  # XOR\n",
    "    temp: bytes = decrypted.to_bytes((decrypted.bit_length()+ 7) // 8, \"big\")\n",
    "    return temp.decode()\n",
    "\n",
    "\n",
    "key1, key2 = encrypt(\"One Time Pad!\") #-> dummy data, product\n",
    "print(key1, key2)\n",
    "result: str = decrypt(key1, key2)\n",
    "print(result)"
   ]
  },
  {
   "cell_type": "markdown",
   "metadata": {},
   "source": [
    "## The Number PI\n",
    "\n",
    "Leibniz formula to derive PI:\n",
    "π = 4/1 - 4/3 + 4/5 - 4/7 + 4/9 - 4/11..."
   ]
  },
  {
   "cell_type": "code",
   "execution_count": 7,
   "metadata": {},
   "outputs": [
    {
     "name": "stdout",
     "output_type": "stream",
     "text": [
      "3.1415916535897743\n"
     ]
    }
   ],
   "source": [
    "def pi(n_terms: int) -> float:\n",
    "    numerator: float = 4.0 #constant\n",
    "\n",
    "    denominator: float = 1.0\n",
    "    operation: float = 1.0\n",
    "    pi: float = 0.0\n",
    "    for _ in range(n_terms):\n",
    "        pi += operation * (numerator / denominator)\n",
    "        denominator += 2.0\n",
    "        operation *= -1.0\n",
    "    return pi\n",
    "\n",
    "print(pi(1000000))"
   ]
  },
  {
   "cell_type": "code",
   "execution_count": null,
   "metadata": {
    "collapsed": true
   },
   "outputs": [],
   "source": []
  }
 ],
 "metadata": {
  "kernelspec": {
   "display_name": "Python 3",
   "language": "python",
   "name": "python3"
  },
  "language_info": {
   "codemirror_mode": {
    "name": "ipython",
    "version": 3
   },
   "file_extension": ".py",
   "mimetype": "text/x-python",
   "name": "python",
   "nbconvert_exporter": "python",
   "pygments_lexer": "ipython3",
   "version": "3.7.3"
  }
 },
 "nbformat": 4,
 "nbformat_minor": 2
}
